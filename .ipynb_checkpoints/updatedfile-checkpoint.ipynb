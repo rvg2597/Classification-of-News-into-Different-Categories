{
 "cells": [
  {
   "cell_type": "code",
   "execution_count": null,
   "id": "35e1fd39",
   "metadata": {},
   "outputs": [],
   "source": []
  },
  {
   "cell_type": "markdown",
   "id": "67b19447",
   "metadata": {},
   "source": [
    "# Book Recommendation System Using Machine learning Algorithms"
   ]
  },
  {
   "cell_type": "code",
   "execution_count": 1,
   "id": "019ebf18",
   "metadata": {},
   "outputs": [],
   "source": [
    "#import libraries\n",
    "import numpy as np\n",
    "import pandas as pd\n",
    "import re\n",
    "import seaborn as sns\n",
    "import matplotlib.pyplot as plt\n",
    "from collections import Counter\n",
    "from scipy.sparse import csr_matrix\n",
    "from pandas.api.types import is_numeric_dtype\n",
    "from sklearn.neighbors import NearestNeighbors\n",
    "from sklearn.feature_extraction import DictVectorizer\n",
    "from sklearn.metrics.pairwise import cosine_similarity\n",
    "from sklearn.feature_extraction.text import TfidfVectorizer\n",
    "\n",
    "import warnings\n",
    "warnings.filterwarnings(\"ignore\")"
   ]
  },
  {
   "cell_type": "markdown",
   "id": "bdc0cfb2",
   "metadata": {},
   "source": [
    "Dataset"
   ]
  },
  {
   "cell_type": "code",
   "execution_count": 2,
   "id": "09f01a7f",
   "metadata": {},
   "outputs": [
    {
     "name": "stdout",
     "output_type": "stream",
     "text": [
      "Books Data:     (271360, 8)\n",
      "Users Data:     (278858, 3)\n",
      "Books-ratings:  (1149780, 3)\n"
     ]
    }
   ],
   "source": [
    "books = pd.read_csv(r\"Books.csv\", delimiter=';', error_bad_lines=False, encoding='ISO-8859-1', warn_bad_lines=False)\n",
    "users = pd.read_csv(r\"Users.csv\", delimiter=';', error_bad_lines=False, encoding='ISO-8859-1', warn_bad_lines=False)\n",
    "ratings = pd.read_csv(r\"Book-Ratings.csv\", delimiter=';', error_bad_lines=False, encoding='ISO-8859-1', warn_bad_lines=False)\n",
    "\n",
    "print(\"Books Data:    \", books.shape)\n",
    "print(\"Users Data:    \", users.shape)\n",
    "print(\"Books-ratings: \", ratings.shape)"
   ]
  },
  {
   "cell_type": "markdown",
   "id": "325a714c",
   "metadata": {},
   "source": [
    "Data Pre-Processing "
   ]
  },
  {
   "cell_type": "markdown",
   "id": "b2fc6edd",
   "metadata": {},
   "source": [
    "Books Data"
   ]
  },
  {
   "cell_type": "code",
   "execution_count": 3,
   "id": "e5134844",
   "metadata": {},
   "outputs": [
    {
     "name": "stdout",
     "output_type": "stream",
     "text": [
      "Columns:  ['ISBN', 'Book-Title', 'Book-Author', 'Year-Of-Publication', 'Publisher', 'Image-URL-S', 'Image-URL-M', 'Image-URL-L']\n"
     ]
    },
    {
     "data": {
      "text/html": [
       "<div>\n",
       "<style scoped>\n",
       "    .dataframe tbody tr th:only-of-type {\n",
       "        vertical-align: middle;\n",
       "    }\n",
       "\n",
       "    .dataframe tbody tr th {\n",
       "        vertical-align: top;\n",
       "    }\n",
       "\n",
       "    .dataframe thead th {\n",
       "        text-align: right;\n",
       "    }\n",
       "</style>\n",
       "<table border=\"1\" class=\"dataframe\">\n",
       "  <thead>\n",
       "    <tr style=\"text-align: right;\">\n",
       "      <th></th>\n",
       "      <th>ISBN</th>\n",
       "      <th>Book-Title</th>\n",
       "      <th>Book-Author</th>\n",
       "      <th>Year-Of-Publication</th>\n",
       "      <th>Publisher</th>\n",
       "      <th>Image-URL-S</th>\n",
       "      <th>Image-URL-M</th>\n",
       "      <th>Image-URL-L</th>\n",
       "    </tr>\n",
       "  </thead>\n",
       "  <tbody>\n",
       "    <tr>\n",
       "      <th>0</th>\n",
       "      <td>0195153448</td>\n",
       "      <td>Classical Mythology</td>\n",
       "      <td>Mark P. O. Morford</td>\n",
       "      <td>2002</td>\n",
       "      <td>Oxford University Press</td>\n",
       "      <td>http://images.amazon.com/images/P/0195153448.0...</td>\n",
       "      <td>http://images.amazon.com/images/P/0195153448.0...</td>\n",
       "      <td>http://images.amazon.com/images/P/0195153448.0...</td>\n",
       "    </tr>\n",
       "    <tr>\n",
       "      <th>1</th>\n",
       "      <td>0002005018</td>\n",
       "      <td>Clara Callan</td>\n",
       "      <td>Richard Bruce Wright</td>\n",
       "      <td>2001</td>\n",
       "      <td>HarperFlamingo Canada</td>\n",
       "      <td>http://images.amazon.com/images/P/0002005018.0...</td>\n",
       "      <td>http://images.amazon.com/images/P/0002005018.0...</td>\n",
       "      <td>http://images.amazon.com/images/P/0002005018.0...</td>\n",
       "    </tr>\n",
       "    <tr>\n",
       "      <th>2</th>\n",
       "      <td>0060973129</td>\n",
       "      <td>Decision in Normandy</td>\n",
       "      <td>Carlo D'Este</td>\n",
       "      <td>1991</td>\n",
       "      <td>HarperPerennial</td>\n",
       "      <td>http://images.amazon.com/images/P/0060973129.0...</td>\n",
       "      <td>http://images.amazon.com/images/P/0060973129.0...</td>\n",
       "      <td>http://images.amazon.com/images/P/0060973129.0...</td>\n",
       "    </tr>\n",
       "    <tr>\n",
       "      <th>3</th>\n",
       "      <td>0374157065</td>\n",
       "      <td>Flu: The Story of the Great Influenza Pandemic...</td>\n",
       "      <td>Gina Bari Kolata</td>\n",
       "      <td>1999</td>\n",
       "      <td>Farrar Straus Giroux</td>\n",
       "      <td>http://images.amazon.com/images/P/0374157065.0...</td>\n",
       "      <td>http://images.amazon.com/images/P/0374157065.0...</td>\n",
       "      <td>http://images.amazon.com/images/P/0374157065.0...</td>\n",
       "    </tr>\n",
       "    <tr>\n",
       "      <th>4</th>\n",
       "      <td>0393045218</td>\n",
       "      <td>The Mummies of Urumchi</td>\n",
       "      <td>E. J. W. Barber</td>\n",
       "      <td>1999</td>\n",
       "      <td>W. W. Norton &amp;amp; Company</td>\n",
       "      <td>http://images.amazon.com/images/P/0393045218.0...</td>\n",
       "      <td>http://images.amazon.com/images/P/0393045218.0...</td>\n",
       "      <td>http://images.amazon.com/images/P/0393045218.0...</td>\n",
       "    </tr>\n",
       "  </tbody>\n",
       "</table>\n",
       "</div>"
      ],
      "text/plain": [
       "         ISBN                                         Book-Title  \\\n",
       "0  0195153448                                Classical Mythology   \n",
       "1  0002005018                                       Clara Callan   \n",
       "2  0060973129                               Decision in Normandy   \n",
       "3  0374157065  Flu: The Story of the Great Influenza Pandemic...   \n",
       "4  0393045218                             The Mummies of Urumchi   \n",
       "\n",
       "            Book-Author Year-Of-Publication                   Publisher  \\\n",
       "0    Mark P. O. Morford                2002     Oxford University Press   \n",
       "1  Richard Bruce Wright                2001       HarperFlamingo Canada   \n",
       "2          Carlo D'Este                1991             HarperPerennial   \n",
       "3      Gina Bari Kolata                1999        Farrar Straus Giroux   \n",
       "4       E. J. W. Barber                1999  W. W. Norton &amp; Company   \n",
       "\n",
       "                                         Image-URL-S  \\\n",
       "0  http://images.amazon.com/images/P/0195153448.0...   \n",
       "1  http://images.amazon.com/images/P/0002005018.0...   \n",
       "2  http://images.amazon.com/images/P/0060973129.0...   \n",
       "3  http://images.amazon.com/images/P/0374157065.0...   \n",
       "4  http://images.amazon.com/images/P/0393045218.0...   \n",
       "\n",
       "                                         Image-URL-M  \\\n",
       "0  http://images.amazon.com/images/P/0195153448.0...   \n",
       "1  http://images.amazon.com/images/P/0002005018.0...   \n",
       "2  http://images.amazon.com/images/P/0060973129.0...   \n",
       "3  http://images.amazon.com/images/P/0374157065.0...   \n",
       "4  http://images.amazon.com/images/P/0393045218.0...   \n",
       "\n",
       "                                         Image-URL-L  \n",
       "0  http://images.amazon.com/images/P/0195153448.0...  \n",
       "1  http://images.amazon.com/images/P/0002005018.0...  \n",
       "2  http://images.amazon.com/images/P/0060973129.0...  \n",
       "3  http://images.amazon.com/images/P/0374157065.0...  \n",
       "4  http://images.amazon.com/images/P/0393045218.0...  "
      ]
     },
     "execution_count": 3,
     "metadata": {},
     "output_type": "execute_result"
    }
   ],
   "source": [
    "print(\"Columns: \", list(books.columns))\n",
    "books.head()"
   ]
  },
  {
   "cell_type": "code",
   "execution_count": 4,
   "id": "fa2c9c1f",
   "metadata": {},
   "outputs": [
    {
     "data": {
      "text/html": [
       "<div>\n",
       "<style scoped>\n",
       "    .dataframe tbody tr th:only-of-type {\n",
       "        vertical-align: middle;\n",
       "    }\n",
       "\n",
       "    .dataframe tbody tr th {\n",
       "        vertical-align: top;\n",
       "    }\n",
       "\n",
       "    .dataframe thead th {\n",
       "        text-align: right;\n",
       "    }\n",
       "</style>\n",
       "<table border=\"1\" class=\"dataframe\">\n",
       "  <thead>\n",
       "    <tr style=\"text-align: right;\">\n",
       "      <th></th>\n",
       "      <th>ISBN</th>\n",
       "      <th>Book-Title</th>\n",
       "      <th>Book-Author</th>\n",
       "      <th>Year-Of-Publication</th>\n",
       "      <th>Publisher</th>\n",
       "    </tr>\n",
       "  </thead>\n",
       "  <tbody>\n",
       "    <tr>\n",
       "      <th>0</th>\n",
       "      <td>0195153448</td>\n",
       "      <td>Classical Mythology</td>\n",
       "      <td>Mark P. O. Morford</td>\n",
       "      <td>2002</td>\n",
       "      <td>Oxford University Press</td>\n",
       "    </tr>\n",
       "    <tr>\n",
       "      <th>1</th>\n",
       "      <td>0002005018</td>\n",
       "      <td>Clara Callan</td>\n",
       "      <td>Richard Bruce Wright</td>\n",
       "      <td>2001</td>\n",
       "      <td>HarperFlamingo Canada</td>\n",
       "    </tr>\n",
       "    <tr>\n",
       "      <th>2</th>\n",
       "      <td>0060973129</td>\n",
       "      <td>Decision in Normandy</td>\n",
       "      <td>Carlo D'Este</td>\n",
       "      <td>1991</td>\n",
       "      <td>HarperPerennial</td>\n",
       "    </tr>\n",
       "    <tr>\n",
       "      <th>3</th>\n",
       "      <td>0374157065</td>\n",
       "      <td>Flu: The Story of the Great Influenza Pandemic...</td>\n",
       "      <td>Gina Bari Kolata</td>\n",
       "      <td>1999</td>\n",
       "      <td>Farrar Straus Giroux</td>\n",
       "    </tr>\n",
       "    <tr>\n",
       "      <th>4</th>\n",
       "      <td>0393045218</td>\n",
       "      <td>The Mummies of Urumchi</td>\n",
       "      <td>E. J. W. Barber</td>\n",
       "      <td>1999</td>\n",
       "      <td>W. W. Norton &amp;amp; Company</td>\n",
       "    </tr>\n",
       "  </tbody>\n",
       "</table>\n",
       "</div>"
      ],
      "text/plain": [
       "         ISBN                                         Book-Title  \\\n",
       "0  0195153448                                Classical Mythology   \n",
       "1  0002005018                                       Clara Callan   \n",
       "2  0060973129                               Decision in Normandy   \n",
       "3  0374157065  Flu: The Story of the Great Influenza Pandemic...   \n",
       "4  0393045218                             The Mummies of Urumchi   \n",
       "\n",
       "            Book-Author Year-Of-Publication                   Publisher  \n",
       "0    Mark P. O. Morford                2002     Oxford University Press  \n",
       "1  Richard Bruce Wright                2001       HarperFlamingo Canada  \n",
       "2          Carlo D'Este                1991             HarperPerennial  \n",
       "3      Gina Bari Kolata                1999        Farrar Straus Giroux  \n",
       "4       E. J. W. Barber                1999  W. W. Norton &amp; Company  "
      ]
     },
     "execution_count": 4,
     "metadata": {},
     "output_type": "execute_result"
    }
   ],
   "source": [
    "## Drop URL columns\n",
    "books.drop(['Image-URL-S', 'Image-URL-M', 'Image-URL-L'], axis=1, inplace=True)\n",
    "books.head()"
   ]
  },
  {
   "cell_type": "code",
   "execution_count": 5,
   "id": "af07f224",
   "metadata": {},
   "outputs": [
    {
     "data": {
      "text/plain": [
       "ISBN                   0\n",
       "Book-Title             0\n",
       "Book-Author            1\n",
       "Year-Of-Publication    0\n",
       "Publisher              2\n",
       "dtype: int64"
      ]
     },
     "execution_count": 5,
     "metadata": {},
     "output_type": "execute_result"
    }
   ],
   "source": [
    "## Checking for null values\n",
    "books.isnull().sum() "
   ]
  },
  {
   "cell_type": "code",
   "execution_count": 6,
   "id": "0af9b519",
   "metadata": {},
   "outputs": [
    {
     "data": {
      "text/html": [
       "<div>\n",
       "<style scoped>\n",
       "    .dataframe tbody tr th:only-of-type {\n",
       "        vertical-align: middle;\n",
       "    }\n",
       "\n",
       "    .dataframe tbody tr th {\n",
       "        vertical-align: top;\n",
       "    }\n",
       "\n",
       "    .dataframe thead th {\n",
       "        text-align: right;\n",
       "    }\n",
       "</style>\n",
       "<table border=\"1\" class=\"dataframe\">\n",
       "  <thead>\n",
       "    <tr style=\"text-align: right;\">\n",
       "      <th></th>\n",
       "      <th>ISBN</th>\n",
       "      <th>Book-Title</th>\n",
       "      <th>Book-Author</th>\n",
       "      <th>Year-Of-Publication</th>\n",
       "      <th>Publisher</th>\n",
       "    </tr>\n",
       "  </thead>\n",
       "  <tbody>\n",
       "    <tr>\n",
       "      <th>187689</th>\n",
       "      <td>9627982032</td>\n",
       "      <td>The Credit Suisse Guide to Managing Your Perso...</td>\n",
       "      <td>NaN</td>\n",
       "      <td>1995</td>\n",
       "      <td>Edinburgh Financial Publishing</td>\n",
       "    </tr>\n",
       "  </tbody>\n",
       "</table>\n",
       "</div>"
      ],
      "text/plain": [
       "              ISBN                                         Book-Title  \\\n",
       "187689  9627982032  The Credit Suisse Guide to Managing Your Perso...   \n",
       "\n",
       "       Book-Author Year-Of-Publication                       Publisher  \n",
       "187689         NaN                1995  Edinburgh Financial Publishing  "
      ]
     },
     "execution_count": 6,
     "metadata": {},
     "output_type": "execute_result"
    }
   ],
   "source": [
    "books.loc[books['Book-Author'].isnull(),:]"
   ]
  },
  {
   "cell_type": "code",
   "execution_count": 7,
   "id": "194c743f",
   "metadata": {},
   "outputs": [
    {
     "data": {
      "text/html": [
       "<div>\n",
       "<style scoped>\n",
       "    .dataframe tbody tr th:only-of-type {\n",
       "        vertical-align: middle;\n",
       "    }\n",
       "\n",
       "    .dataframe tbody tr th {\n",
       "        vertical-align: top;\n",
       "    }\n",
       "\n",
       "    .dataframe thead th {\n",
       "        text-align: right;\n",
       "    }\n",
       "</style>\n",
       "<table border=\"1\" class=\"dataframe\">\n",
       "  <thead>\n",
       "    <tr style=\"text-align: right;\">\n",
       "      <th></th>\n",
       "      <th>ISBN</th>\n",
       "      <th>Book-Title</th>\n",
       "      <th>Book-Author</th>\n",
       "      <th>Year-Of-Publication</th>\n",
       "      <th>Publisher</th>\n",
       "    </tr>\n",
       "  </thead>\n",
       "  <tbody>\n",
       "    <tr>\n",
       "      <th>128890</th>\n",
       "      <td>193169656X</td>\n",
       "      <td>Tyrant Moon</td>\n",
       "      <td>Elaine Corvidae</td>\n",
       "      <td>2002</td>\n",
       "      <td>NaN</td>\n",
       "    </tr>\n",
       "    <tr>\n",
       "      <th>129037</th>\n",
       "      <td>1931696993</td>\n",
       "      <td>Finders Keepers</td>\n",
       "      <td>Linnea Sinclair</td>\n",
       "      <td>2001</td>\n",
       "      <td>NaN</td>\n",
       "    </tr>\n",
       "  </tbody>\n",
       "</table>\n",
       "</div>"
      ],
      "text/plain": [
       "              ISBN       Book-Title      Book-Author Year-Of-Publication  \\\n",
       "128890  193169656X      Tyrant Moon  Elaine Corvidae                2002   \n",
       "129037  1931696993  Finders Keepers  Linnea Sinclair                2001   \n",
       "\n",
       "       Publisher  \n",
       "128890       NaN  \n",
       "129037       NaN  "
      ]
     },
     "execution_count": 7,
     "metadata": {},
     "output_type": "execute_result"
    }
   ],
   "source": [
    "books.loc[books['Publisher'].isnull(),:]"
   ]
  },
  {
   "cell_type": "code",
   "execution_count": 8,
   "id": "4b6380b1",
   "metadata": {},
   "outputs": [],
   "source": [
    "books.at[187689 ,'Book-Author'] = 'Other'\n",
    "\n",
    "books.at[128890 ,'Publisher'] = 'Other'\n",
    "books.at[129037 ,'Publisher'] = 'Other'"
   ]
  },
  {
   "cell_type": "code",
   "execution_count": 9,
   "id": "434c30ec",
   "metadata": {},
   "outputs": [
    {
     "data": {
      "text/plain": [
       "array([2002, 2001, 1991, 1999, 2000, 1993, 1996, 1988, 2004, 1998, 1994,\n",
       "       2003, 1997, 1983, 1979, 1995, 1982, 1985, 1992, 1986, 1978, 1980,\n",
       "       1952, 1987, 1990, 1981, 1989, 1984, 0, 1968, 1961, 1958, 1974,\n",
       "       1976, 1971, 1977, 1975, 1965, 1941, 1970, 1962, 1973, 1972, 1960,\n",
       "       1966, 1920, 1956, 1959, 1953, 1951, 1942, 1963, 1964, 1969, 1954,\n",
       "       1950, 1967, 2005, 1957, 1940, 1937, 1955, 1946, 1936, 1930, 2011,\n",
       "       1925, 1948, 1943, 1947, 1945, 1923, 2020, 1939, 1926, 1938, 2030,\n",
       "       1911, 1904, 1949, 1932, 1928, 1929, 1927, 1931, 1914, 2050, 1934,\n",
       "       1910, 1933, 1902, 1924, 1921, 1900, 2038, 2026, 1944, 1917, 1901,\n",
       "       2010, 1908, 1906, 1935, 1806, 2021, '2000', '1995', '1999', '2004',\n",
       "       '2003', '1990', '1994', '1986', '1989', '2002', '1981', '1993',\n",
       "       '1983', '1982', '1976', '1991', '1977', '1998', '1992', '1996',\n",
       "       '0', '1997', '2001', '1974', '1968', '1987', '1984', '1988',\n",
       "       '1963', '1956', '1970', '1985', '1978', '1973', '1980', '1979',\n",
       "       '1975', '1969', '1961', '1965', '1939', '1958', '1950', '1953',\n",
       "       '1966', '1971', '1959', '1972', '1955', '1957', '1945', '1960',\n",
       "       '1967', '1932', '1924', '1964', '2012', '1911', '1927', '1948',\n",
       "       '1962', '2006', '1952', '1940', '1951', '1931', '1954', '2005',\n",
       "       '1930', '1941', '1944', 'DK Publishing Inc', '1943', '1938',\n",
       "       '1900', '1942', '1923', '1920', '1933', 'Gallimard', '1909',\n",
       "       '1946', '2008', '1378', '2030', '1936', '1947', '2011', '2020',\n",
       "       '1919', '1949', '1922', '1897', '2024', '1376', '1926', '2037'],\n",
       "      dtype=object)"
      ]
     },
     "execution_count": 9,
     "metadata": {},
     "output_type": "execute_result"
    }
   ],
   "source": [
    "## Checking for column Year-of-publication\n",
    "books['Year-Of-Publication'].unique()"
   ]
  },
  {
   "cell_type": "code",
   "execution_count": 10,
   "id": "4e8a71a5",
   "metadata": {},
   "outputs": [],
   "source": [
    "pd.set_option('display.max_colwidth', -1)"
   ]
  },
  {
   "cell_type": "code",
   "execution_count": 11,
   "id": "fd684040",
   "metadata": {},
   "outputs": [
    {
     "data": {
      "text/html": [
       "<div>\n",
       "<style scoped>\n",
       "    .dataframe tbody tr th:only-of-type {\n",
       "        vertical-align: middle;\n",
       "    }\n",
       "\n",
       "    .dataframe tbody tr th {\n",
       "        vertical-align: top;\n",
       "    }\n",
       "\n",
       "    .dataframe thead th {\n",
       "        text-align: right;\n",
       "    }\n",
       "</style>\n",
       "<table border=\"1\" class=\"dataframe\">\n",
       "  <thead>\n",
       "    <tr style=\"text-align: right;\">\n",
       "      <th></th>\n",
       "      <th>ISBN</th>\n",
       "      <th>Book-Title</th>\n",
       "      <th>Book-Author</th>\n",
       "      <th>Year-Of-Publication</th>\n",
       "      <th>Publisher</th>\n",
       "    </tr>\n",
       "  </thead>\n",
       "  <tbody>\n",
       "    <tr>\n",
       "      <th>209538</th>\n",
       "      <td>078946697X</td>\n",
       "      <td>DK Readers: Creating the X-Men, How It All Began (Level 4: Proficient Readers)\\\";Michael Teitelbaum\"</td>\n",
       "      <td>2000</td>\n",
       "      <td>DK Publishing Inc</td>\n",
       "      <td>http://images.amazon.com/images/P/078946697X.01.THUMBZZZ.jpg</td>\n",
       "    </tr>\n",
       "    <tr>\n",
       "      <th>221678</th>\n",
       "      <td>0789466953</td>\n",
       "      <td>DK Readers: Creating the X-Men, How Comic Books Come to Life (Level 4: Proficient Readers)\\\";James Buckley\"</td>\n",
       "      <td>2000</td>\n",
       "      <td>DK Publishing Inc</td>\n",
       "      <td>http://images.amazon.com/images/P/0789466953.01.THUMBZZZ.jpg</td>\n",
       "    </tr>\n",
       "  </tbody>\n",
       "</table>\n",
       "</div>"
      ],
      "text/plain": [
       "              ISBN  \\\n",
       "209538  078946697X   \n",
       "221678  0789466953   \n",
       "\n",
       "                                                                                                         Book-Title  \\\n",
       "209538  DK Readers: Creating the X-Men, How It All Began (Level 4: Proficient Readers)\\\";Michael Teitelbaum\"          \n",
       "221678  DK Readers: Creating the X-Men, How Comic Books Come to Life (Level 4: Proficient Readers)\\\";James Buckley\"   \n",
       "\n",
       "       Book-Author Year-Of-Publication  \\\n",
       "209538  2000        DK Publishing Inc    \n",
       "221678  2000        DK Publishing Inc    \n",
       "\n",
       "                                                           Publisher  \n",
       "209538  http://images.amazon.com/images/P/078946697X.01.THUMBZZZ.jpg  \n",
       "221678  http://images.amazon.com/images/P/0789466953.01.THUMBZZZ.jpg  "
      ]
     },
     "execution_count": 11,
     "metadata": {},
     "output_type": "execute_result"
    }
   ],
   "source": [
    "books.loc[books['Year-Of-Publication'] == 'DK Publishing Inc',:]"
   ]
  },
  {
   "cell_type": "code",
   "execution_count": 12,
   "id": "3ee0027c",
   "metadata": {},
   "outputs": [
    {
     "data": {
      "text/html": [
       "<div>\n",
       "<style scoped>\n",
       "    .dataframe tbody tr th:only-of-type {\n",
       "        vertical-align: middle;\n",
       "    }\n",
       "\n",
       "    .dataframe tbody tr th {\n",
       "        vertical-align: top;\n",
       "    }\n",
       "\n",
       "    .dataframe thead th {\n",
       "        text-align: right;\n",
       "    }\n",
       "</style>\n",
       "<table border=\"1\" class=\"dataframe\">\n",
       "  <thead>\n",
       "    <tr style=\"text-align: right;\">\n",
       "      <th></th>\n",
       "      <th>ISBN</th>\n",
       "      <th>Book-Title</th>\n",
       "      <th>Book-Author</th>\n",
       "      <th>Year-Of-Publication</th>\n",
       "      <th>Publisher</th>\n",
       "    </tr>\n",
       "  </thead>\n",
       "  <tbody>\n",
       "    <tr>\n",
       "      <th>220731</th>\n",
       "      <td>2070426769</td>\n",
       "      <td>Peuple du ciel, suivi de 'Les Bergers\\\";Jean-Marie Gustave Le ClÃ?Â©zio\"</td>\n",
       "      <td>2003</td>\n",
       "      <td>Gallimard</td>\n",
       "      <td>http://images.amazon.com/images/P/2070426769.01.THUMBZZZ.jpg</td>\n",
       "    </tr>\n",
       "  </tbody>\n",
       "</table>\n",
       "</div>"
      ],
      "text/plain": [
       "              ISBN  \\\n",
       "220731  2070426769   \n",
       "\n",
       "                                                                      Book-Title  \\\n",
       "220731  Peuple du ciel, suivi de 'Les Bergers\\\";Jean-Marie Gustave Le ClÃ?Â©zio\"   \n",
       "\n",
       "       Book-Author Year-Of-Publication  \\\n",
       "220731  2003        Gallimard            \n",
       "\n",
       "                                                           Publisher  \n",
       "220731  http://images.amazon.com/images/P/2070426769.01.THUMBZZZ.jpg  "
      ]
     },
     "execution_count": 12,
     "metadata": {},
     "output_type": "execute_result"
    }
   ],
   "source": [
    "books.loc[books['Year-Of-Publication'] == 'Gallimard',:]"
   ]
  },
  {
   "cell_type": "code",
   "execution_count": 13,
   "id": "c397f45e",
   "metadata": {},
   "outputs": [],
   "source": [
    "books.at[209538 ,'Publisher'] = 'DK Publishing Inc'\n",
    "books.at[209538 ,'Year-Of-Publication'] = 2000\n",
    "books.at[209538 ,'Book-Title'] = 'DK Readers: Creating the X-Men, How It All Began (Level 4: Proficient Readers)'\n",
    "books.at[209538 ,'Book-Author'] = 'Michael Teitelbaum'\n",
    "\n",
    "books.at[221678 ,'Publisher'] = 'DK Publishing Inc'\n",
    "books.at[221678 ,'Year-Of-Publication'] = 2000\n",
    "books.at[209538 ,'Book-Title'] = 'DK Readers: Creating the X-Men, How Comic Books Come to Life (Level 4: Proficient Readers)'\n",
    "books.at[209538 ,'Book-Author'] = 'James Buckley'\n",
    "\n",
    "books.at[220731 ,'Publisher'] = 'Gallimard'\n",
    "books.at[220731 ,'Year-Of-Publication'] = '2003'\n",
    "books.at[209538 ,'Book-Title'] = 'Peuple du ciel - Suivi de Les bergers '\n",
    "books.at[209538 ,'Book-Author'] = 'Jean-Marie Gustave Le ClÃ?Â©zio'"
   ]
  },
  {
   "cell_type": "code",
   "execution_count": 14,
   "id": "bb55f1dc",
   "metadata": {},
   "outputs": [],
   "source": [
    "## Converting year of publication in Numbers\n",
    "books['Year-Of-Publication'] = books['Year-Of-Publication'].astype(int)"
   ]
  },
  {
   "cell_type": "code",
   "execution_count": 15,
   "id": "0990ae52",
   "metadata": {},
   "outputs": [
    {
     "name": "stdout",
     "output_type": "stream",
     "text": [
      "[0, 1376, 1378, 1806, 1897, 1900, 1901, 1902, 1904, 1906, 1908, 1909, 1910, 1911, 1914, 1917, 1919, 1920, 1921, 1922, 1923, 1924, 1925, 1926, 1927, 1928, 1929, 1930, 1931, 1932, 1933, 1934, 1935, 1936, 1937, 1938, 1939, 1940, 1941, 1942, 1943, 1944, 1945, 1946, 1947, 1948, 1949, 1950, 1951, 1952, 1953, 1954, 1955, 1956, 1957, 1958, 1959, 1960, 1961, 1962, 1963, 1964, 1965, 1966, 1967, 1968, 1969, 1970, 1971, 1972, 1973, 1974, 1975, 1976, 1977, 1978, 1979, 1980, 1981, 1982, 1983, 1984, 1985, 1986, 1987, 1988, 1989, 1990, 1991, 1992, 1993, 1994, 1995, 1996, 1997, 1998, 1999, 2000, 2001, 2002, 2003, 2004, 2005, 2006, 2008, 2010, 2011, 2012, 2020, 2021, 2024, 2026, 2030, 2037, 2038, 2050]\n"
     ]
    }
   ],
   "source": [
    "print(sorted(list(books['Year-Of-Publication'].unique())))"
   ]
  },
  {
   "cell_type": "code",
   "execution_count": 16,
   "id": "9447b5fd",
   "metadata": {},
   "outputs": [
    {
     "data": {
      "text/plain": [
       "[2002]"
      ]
     },
     "execution_count": 16,
     "metadata": {},
     "output_type": "execute_result"
    }
   ],
   "source": [
    "## Replacing Invalid years with max year\n",
    "count = Counter(books['Year-Of-Publication'])\n",
    "[k for k, v in count.items() if v == max(count.values())]"
   ]
  },
  {
   "cell_type": "code",
   "execution_count": 17,
   "id": "82f94aae",
   "metadata": {},
   "outputs": [],
   "source": [
    "books.loc[books['Year-Of-Publication'] > 2021, 'Year-Of-Publication'] = 2002\n",
    "books.loc[books['Year-Of-Publication'] == 0, 'Year-Of-Publication'] = 2002"
   ]
  },
  {
   "cell_type": "code",
   "execution_count": 18,
   "id": "3aef806b",
   "metadata": {},
   "outputs": [],
   "source": [
    "## Uppercasing all alphabets in ISBN\n",
    "books['ISBN'] = books['ISBN'].str.upper()"
   ]
  },
  {
   "cell_type": "code",
   "execution_count": 19,
   "id": "1b77af05",
   "metadata": {},
   "outputs": [],
   "source": [
    "## Drop duplicate rows\n",
    "books.drop_duplicates(keep='last', inplace=True) \n",
    "books.reset_index(drop = True, inplace = True)"
   ]
  },
  {
   "cell_type": "code",
   "execution_count": 20,
   "id": "27a3b035",
   "metadata": {},
   "outputs": [
    {
     "name": "stdout",
     "output_type": "stream",
     "text": [
      "<class 'pandas.core.frame.DataFrame'>\n",
      "RangeIndex: 271047 entries, 0 to 271046\n",
      "Data columns (total 5 columns):\n",
      " #   Column               Non-Null Count   Dtype \n",
      "---  ------               --------------   ----- \n",
      " 0   ISBN                 271047 non-null  object\n",
      " 1   Book-Title           271047 non-null  object\n",
      " 2   Book-Author          271047 non-null  object\n",
      " 3   Year-Of-Publication  271047 non-null  int32 \n",
      " 4   Publisher            271047 non-null  object\n",
      "dtypes: int32(1), object(4)\n",
      "memory usage: 9.3+ MB\n"
     ]
    }
   ],
   "source": [
    "books.info()"
   ]
  },
  {
   "cell_type": "code",
   "execution_count": 21,
   "id": "7cfe7ab8",
   "metadata": {},
   "outputs": [
    {
     "data": {
      "text/html": [
       "<div>\n",
       "<style scoped>\n",
       "    .dataframe tbody tr th:only-of-type {\n",
       "        vertical-align: middle;\n",
       "    }\n",
       "\n",
       "    .dataframe tbody tr th {\n",
       "        vertical-align: top;\n",
       "    }\n",
       "\n",
       "    .dataframe thead th {\n",
       "        text-align: right;\n",
       "    }\n",
       "</style>\n",
       "<table border=\"1\" class=\"dataframe\">\n",
       "  <thead>\n",
       "    <tr style=\"text-align: right;\">\n",
       "      <th></th>\n",
       "      <th>ISBN</th>\n",
       "      <th>Book-Title</th>\n",
       "      <th>Book-Author</th>\n",
       "      <th>Year-Of-Publication</th>\n",
       "      <th>Publisher</th>\n",
       "    </tr>\n",
       "  </thead>\n",
       "  <tbody>\n",
       "    <tr>\n",
       "      <th>0</th>\n",
       "      <td>0195153448</td>\n",
       "      <td>Classical Mythology</td>\n",
       "      <td>Mark P. O. Morford</td>\n",
       "      <td>2002</td>\n",
       "      <td>Oxford University Press</td>\n",
       "    </tr>\n",
       "    <tr>\n",
       "      <th>1</th>\n",
       "      <td>0002005018</td>\n",
       "      <td>Clara Callan</td>\n",
       "      <td>Richard Bruce Wright</td>\n",
       "      <td>2001</td>\n",
       "      <td>HarperFlamingo Canada</td>\n",
       "    </tr>\n",
       "    <tr>\n",
       "      <th>2</th>\n",
       "      <td>0060973129</td>\n",
       "      <td>Decision in Normandy</td>\n",
       "      <td>Carlo D'Este</td>\n",
       "      <td>1991</td>\n",
       "      <td>HarperPerennial</td>\n",
       "    </tr>\n",
       "    <tr>\n",
       "      <th>3</th>\n",
       "      <td>0374157065</td>\n",
       "      <td>Flu: The Story of the Great Influenza Pandemic of 1918 and the Search for the Virus That Caused It</td>\n",
       "      <td>Gina Bari Kolata</td>\n",
       "      <td>1999</td>\n",
       "      <td>Farrar Straus Giroux</td>\n",
       "    </tr>\n",
       "    <tr>\n",
       "      <th>4</th>\n",
       "      <td>0393045218</td>\n",
       "      <td>The Mummies of Urumchi</td>\n",
       "      <td>E. J. W. Barber</td>\n",
       "      <td>1999</td>\n",
       "      <td>W. W. Norton &amp;amp; Company</td>\n",
       "    </tr>\n",
       "  </tbody>\n",
       "</table>\n",
       "</div>"
      ],
      "text/plain": [
       "         ISBN  \\\n",
       "0  0195153448   \n",
       "1  0002005018   \n",
       "2  0060973129   \n",
       "3  0374157065   \n",
       "4  0393045218   \n",
       "\n",
       "                                                                                           Book-Title  \\\n",
       "0  Classical Mythology                                                                                  \n",
       "1  Clara Callan                                                                                         \n",
       "2  Decision in Normandy                                                                                 \n",
       "3  Flu: The Story of the Great Influenza Pandemic of 1918 and the Search for the Virus That Caused It   \n",
       "4  The Mummies of Urumchi                                                                               \n",
       "\n",
       "            Book-Author  Year-Of-Publication                   Publisher  \n",
       "0  Mark P. O. Morford    2002                 Oxford University Press     \n",
       "1  Richard Bruce Wright  2001                 HarperFlamingo Canada       \n",
       "2  Carlo D'Este          1991                 HarperPerennial             \n",
       "3  Gina Bari Kolata      1999                 Farrar Straus Giroux        \n",
       "4  E. J. W. Barber       1999                 W. W. Norton &amp; Company  "
      ]
     },
     "execution_count": 21,
     "metadata": {},
     "output_type": "execute_result"
    }
   ],
   "source": [
    "books.head()"
   ]
  },
  {
   "cell_type": "markdown",
   "id": "84b99d46",
   "metadata": {},
   "source": [
    "Users Dataset Pre-processing"
   ]
  },
  {
   "cell_type": "code",
   "execution_count": 22,
   "id": "2abb926f",
   "metadata": {},
   "outputs": [
    {
     "name": "stdout",
     "output_type": "stream",
     "text": [
      "Columns:  ['User-ID', 'Location', 'Age']\n"
     ]
    },
    {
     "data": {
      "text/html": [
       "<div>\n",
       "<style scoped>\n",
       "    .dataframe tbody tr th:only-of-type {\n",
       "        vertical-align: middle;\n",
       "    }\n",
       "\n",
       "    .dataframe tbody tr th {\n",
       "        vertical-align: top;\n",
       "    }\n",
       "\n",
       "    .dataframe thead th {\n",
       "        text-align: right;\n",
       "    }\n",
       "</style>\n",
       "<table border=\"1\" class=\"dataframe\">\n",
       "  <thead>\n",
       "    <tr style=\"text-align: right;\">\n",
       "      <th></th>\n",
       "      <th>User-ID</th>\n",
       "      <th>Location</th>\n",
       "      <th>Age</th>\n",
       "    </tr>\n",
       "  </thead>\n",
       "  <tbody>\n",
       "    <tr>\n",
       "      <th>0</th>\n",
       "      <td>1</td>\n",
       "      <td>nyc, new york, usa</td>\n",
       "      <td>NaN</td>\n",
       "    </tr>\n",
       "    <tr>\n",
       "      <th>1</th>\n",
       "      <td>2</td>\n",
       "      <td>stockton, california, usa</td>\n",
       "      <td>18.0</td>\n",
       "    </tr>\n",
       "    <tr>\n",
       "      <th>2</th>\n",
       "      <td>3</td>\n",
       "      <td>moscow, yukon territory, russia</td>\n",
       "      <td>NaN</td>\n",
       "    </tr>\n",
       "    <tr>\n",
       "      <th>3</th>\n",
       "      <td>4</td>\n",
       "      <td>porto, v.n.gaia, portugal</td>\n",
       "      <td>17.0</td>\n",
       "    </tr>\n",
       "    <tr>\n",
       "      <th>4</th>\n",
       "      <td>5</td>\n",
       "      <td>farnborough, hants, united kingdom</td>\n",
       "      <td>NaN</td>\n",
       "    </tr>\n",
       "  </tbody>\n",
       "</table>\n",
       "</div>"
      ],
      "text/plain": [
       "   User-ID                            Location   Age\n",
       "0  1        nyc, new york, usa                 NaN  \n",
       "1  2        stockton, california, usa           18.0\n",
       "2  3        moscow, yukon territory, russia    NaN  \n",
       "3  4        porto, v.n.gaia, portugal           17.0\n",
       "4  5        farnborough, hants, united kingdom NaN  "
      ]
     },
     "execution_count": 22,
     "metadata": {},
     "output_type": "execute_result"
    }
   ],
   "source": [
    "print(\"Columns: \", list(users.columns))\n",
    "users.head()"
   ]
  },
  {
   "cell_type": "code",
   "execution_count": 23,
   "id": "0cd1360d",
   "metadata": {},
   "outputs": [
    {
     "name": "stdout",
     "output_type": "stream",
     "text": [
      "User-ID     0     \n",
      "Location    0     \n",
      "Age         110762\n",
      "dtype: int64\n"
     ]
    }
   ],
   "source": [
    "## Checking null values\n",
    "print(users.isna().sum())  "
   ]
  },
  {
   "cell_type": "code",
   "execution_count": 24,
   "id": "59abbe66",
   "metadata": {},
   "outputs": [
    {
     "name": "stdout",
     "output_type": "stream",
     "text": [
      "[nan, 0.0, 1.0, 2.0, 3.0, 4.0, 5.0, 6.0, 7.0, 8.0, 9.0, 10.0, 11.0, 12.0, 13.0, 14.0, 15.0, 16.0, 17.0, 18.0, 19.0, 20.0, 21.0, 22.0, 23.0, 24.0, 25.0, 26.0, 27.0, 28.0, 29.0, 30.0, 31.0, 32.0, 33.0, 34.0, 35.0, 36.0, 37.0, 38.0, 39.0, 40.0, 41.0, 42.0, 43.0, 44.0, 45.0, 46.0, 47.0, 48.0, 49.0, 50.0, 51.0, 52.0, 53.0, 54.0, 55.0, 56.0, 57.0, 58.0, 59.0, 60.0, 61.0, 62.0, 63.0, 64.0, 65.0, 66.0, 67.0, 68.0, 69.0, 70.0, 71.0, 72.0, 73.0, 74.0, 75.0, 76.0, 77.0, 78.0, 79.0, 80.0, 81.0, 82.0, 83.0, 84.0, 85.0, 86.0, 87.0, 88.0, 89.0, 90.0, 91.0, 92.0, 93.0, 94.0, 95.0, 96.0, 97.0, 98.0, 99.0, 100.0, 101.0, 102.0, 103.0, 104.0, 105.0, 106.0, 107.0, 108.0, 109.0, 110.0, 111.0, 113.0, 114.0, 115.0, 116.0, 118.0, 119.0, 123.0, 124.0, 127.0, 128.0, 132.0, 133.0, 136.0, 137.0, 138.0, 140.0, 141.0, 143.0, 146.0, 147.0, 148.0, 151.0, 152.0, 156.0, 157.0, 159.0, 162.0, 168.0, 172.0, 175.0, 183.0, 186.0, 189.0, 199.0, 200.0, 201.0, 204.0, 207.0, 208.0, 209.0, 210.0, 212.0, 219.0, 220.0, 223.0, 226.0, 228.0, 229.0, 230.0, 231.0, 237.0, 239.0, 244.0]\n"
     ]
    }
   ],
   "source": [
    "## Check for all values present in Age column\n",
    "print(sorted(list(users['Age'].unique())))"
   ]
  },
  {
   "cell_type": "code",
   "execution_count": 25,
   "id": "f59780d1",
   "metadata": {},
   "outputs": [],
   "source": [
    "required = users[users['Age'] <= 80]\n",
    "required = required[required['Age'] >= 10]"
   ]
  },
  {
   "cell_type": "code",
   "execution_count": 26,
   "id": "59c15d66",
   "metadata": {},
   "outputs": [
    {
     "data": {
      "text/plain": [
       "35"
      ]
     },
     "execution_count": 26,
     "metadata": {},
     "output_type": "execute_result"
    }
   ],
   "source": [
    "mean = round(required['Age'].mean())   \n",
    "mean"
   ]
  },
  {
   "cell_type": "code",
   "execution_count": 27,
   "id": "6e9801be",
   "metadata": {},
   "outputs": [],
   "source": [
    "users.loc[users['Age'] > 80, 'Age'] = mean    #outliers with age grater than 80 are substituted with mean \n",
    "users.loc[users['Age'] < 10, 'Age'] = mean    #outliers with age less than 10 years are substitued with mean\n",
    "users['Age'] = users['Age'].fillna(mean)      #filling null values with mean\n",
    "users['Age'] = users['Age'].astype(int)       #changing Datatype to int"
   ]
  },
  {
   "cell_type": "code",
   "execution_count": 28,
   "id": "4ba56634",
   "metadata": {},
   "outputs": [
    {
     "name": "stdout",
     "output_type": "stream",
     "text": [
      "4659\n",
      "16044\n"
     ]
    }
   ],
   "source": [
    "list_ = users.Location.str.split(', ')\n",
    "\n",
    "city = []\n",
    "state = []\n",
    "country = []\n",
    "count_no_state = 0    \n",
    "count_no_country = 0\n",
    "\n",
    "for i in range(0,len(list_)):\n",
    "    if list_[i][0] == ' ' or list_[i][0] == '' or list_[i][0]=='n/a' or list_[i][0] == ',':  #removing invalid entries too\n",
    "        city.append('other')\n",
    "    else:\n",
    "        city.append(list_[i][0].lower())\n",
    "\n",
    "    if(len(list_[i])<2):\n",
    "        state.append('other')\n",
    "        country.append('other')\n",
    "        count_no_state += 1\n",
    "        count_no_country += 1\n",
    "    else:\n",
    "        if list_[i][1] == ' ' or list_[i][1] == '' or list_[i][1]=='n/a' or list_[i][1] == ',':   #removing invalid entries \n",
    "            state.append('other')\n",
    "            count_no_state += 1            \n",
    "        else:\n",
    "            state.append(list_[i][1].lower())\n",
    "        \n",
    "        if(len(list_[i])<3):\n",
    "            country.append('other')\n",
    "            count_no_country += 1\n",
    "        else:\n",
    "            if list_[i][2] == ''or list_[i][1] == ',' or list_[i][2] == ' ' or list_[i][2] == 'n/a':\n",
    "                country.append('other')\n",
    "                count_no_country += 1\n",
    "            else:\n",
    "                country.append(list_[i][2].lower())\n",
    "        \n",
    "users = users.drop('Location',axis=1)\n",
    "\n",
    "temp = []\n",
    "for ent in city:\n",
    "    c = ent.split('/')            #handling cases where city/state entries from city list as state is already given \n",
    "    temp.append(c[0])\n",
    "\n",
    "df_city = pd.DataFrame(temp,columns=['City'])\n",
    "df_state = pd.DataFrame(state,columns=['State'])\n",
    "df_country = pd.DataFrame(country,columns=['Country'])\n",
    "\n",
    "users = pd.concat([users, df_city], axis=1)\n",
    "users = pd.concat([users, df_state], axis=1)\n",
    "users = pd.concat([users, df_country], axis=1)\n",
    "\n",
    "print(count_no_country)   #printing the number of countries didnt have any values \n",
    "print(count_no_state)     #printing the states which didnt have any value"
   ]
  },
  {
   "cell_type": "code",
   "execution_count": 29,
   "id": "65d9b1c1",
   "metadata": {},
   "outputs": [],
   "source": [
    "## Drop duplicate rows\n",
    "users.drop_duplicates(keep='last', inplace=True)\n",
    "users.reset_index(drop=True, inplace=True)"
   ]
  },
  {
   "cell_type": "code",
   "execution_count": 30,
   "id": "c84c97f9",
   "metadata": {},
   "outputs": [
    {
     "name": "stdout",
     "output_type": "stream",
     "text": [
      "<class 'pandas.core.frame.DataFrame'>\n",
      "RangeIndex: 278858 entries, 0 to 278857\n",
      "Data columns (total 5 columns):\n",
      " #   Column   Non-Null Count   Dtype \n",
      "---  ------   --------------   ----- \n",
      " 0   User-ID  278858 non-null  int64 \n",
      " 1   Age      278858 non-null  int32 \n",
      " 2   City     278858 non-null  object\n",
      " 3   State    278858 non-null  object\n",
      " 4   Country  278858 non-null  object\n",
      "dtypes: int32(1), int64(1), object(3)\n",
      "memory usage: 9.6+ MB\n"
     ]
    }
   ],
   "source": [
    "users.info()"
   ]
  },
  {
   "cell_type": "code",
   "execution_count": 31,
   "id": "c16373e8",
   "metadata": {},
   "outputs": [
    {
     "data": {
      "text/html": [
       "<div>\n",
       "<style scoped>\n",
       "    .dataframe tbody tr th:only-of-type {\n",
       "        vertical-align: middle;\n",
       "    }\n",
       "\n",
       "    .dataframe tbody tr th {\n",
       "        vertical-align: top;\n",
       "    }\n",
       "\n",
       "    .dataframe thead th {\n",
       "        text-align: right;\n",
       "    }\n",
       "</style>\n",
       "<table border=\"1\" class=\"dataframe\">\n",
       "  <thead>\n",
       "    <tr style=\"text-align: right;\">\n",
       "      <th></th>\n",
       "      <th>User-ID</th>\n",
       "      <th>Age</th>\n",
       "      <th>City</th>\n",
       "      <th>State</th>\n",
       "      <th>Country</th>\n",
       "    </tr>\n",
       "  </thead>\n",
       "  <tbody>\n",
       "    <tr>\n",
       "      <th>0</th>\n",
       "      <td>1</td>\n",
       "      <td>35</td>\n",
       "      <td>nyc</td>\n",
       "      <td>new york</td>\n",
       "      <td>usa</td>\n",
       "    </tr>\n",
       "    <tr>\n",
       "      <th>1</th>\n",
       "      <td>2</td>\n",
       "      <td>18</td>\n",
       "      <td>stockton</td>\n",
       "      <td>california</td>\n",
       "      <td>usa</td>\n",
       "    </tr>\n",
       "    <tr>\n",
       "      <th>2</th>\n",
       "      <td>3</td>\n",
       "      <td>35</td>\n",
       "      <td>moscow</td>\n",
       "      <td>yukon territory</td>\n",
       "      <td>russia</td>\n",
       "    </tr>\n",
       "    <tr>\n",
       "      <th>3</th>\n",
       "      <td>4</td>\n",
       "      <td>17</td>\n",
       "      <td>porto</td>\n",
       "      <td>v.n.gaia</td>\n",
       "      <td>portugal</td>\n",
       "    </tr>\n",
       "    <tr>\n",
       "      <th>4</th>\n",
       "      <td>5</td>\n",
       "      <td>35</td>\n",
       "      <td>farnborough</td>\n",
       "      <td>hants</td>\n",
       "      <td>united kingdom</td>\n",
       "    </tr>\n",
       "  </tbody>\n",
       "</table>\n",
       "</div>"
      ],
      "text/plain": [
       "   User-ID  Age         City            State         Country\n",
       "0  1        35   nyc          new york         usa           \n",
       "1  2        18   stockton     california       usa           \n",
       "2  3        35   moscow       yukon territory  russia        \n",
       "3  4        17   porto        v.n.gaia         portugal      \n",
       "4  5        35   farnborough  hants            united kingdom"
      ]
     },
     "execution_count": 31,
     "metadata": {},
     "output_type": "execute_result"
    }
   ],
   "source": [
    "users.head()"
   ]
  },
  {
   "cell_type": "markdown",
   "id": "dab41822",
   "metadata": {},
   "source": [
    "Books-Ratings Dataset Pre-processing"
   ]
  },
  {
   "cell_type": "code",
   "execution_count": 32,
   "id": "d4abcd2a",
   "metadata": {},
   "outputs": [
    {
     "name": "stdout",
     "output_type": "stream",
     "text": [
      "Columns:  ['User-ID', 'ISBN', 'Book-Rating']\n"
     ]
    },
    {
     "data": {
      "text/html": [
       "<div>\n",
       "<style scoped>\n",
       "    .dataframe tbody tr th:only-of-type {\n",
       "        vertical-align: middle;\n",
       "    }\n",
       "\n",
       "    .dataframe tbody tr th {\n",
       "        vertical-align: top;\n",
       "    }\n",
       "\n",
       "    .dataframe thead th {\n",
       "        text-align: right;\n",
       "    }\n",
       "</style>\n",
       "<table border=\"1\" class=\"dataframe\">\n",
       "  <thead>\n",
       "    <tr style=\"text-align: right;\">\n",
       "      <th></th>\n",
       "      <th>User-ID</th>\n",
       "      <th>ISBN</th>\n",
       "      <th>Book-Rating</th>\n",
       "    </tr>\n",
       "  </thead>\n",
       "  <tbody>\n",
       "    <tr>\n",
       "      <th>0</th>\n",
       "      <td>276725</td>\n",
       "      <td>034545104X</td>\n",
       "      <td>0</td>\n",
       "    </tr>\n",
       "    <tr>\n",
       "      <th>1</th>\n",
       "      <td>276726</td>\n",
       "      <td>0155061224</td>\n",
       "      <td>5</td>\n",
       "    </tr>\n",
       "    <tr>\n",
       "      <th>2</th>\n",
       "      <td>276727</td>\n",
       "      <td>0446520802</td>\n",
       "      <td>0</td>\n",
       "    </tr>\n",
       "    <tr>\n",
       "      <th>3</th>\n",
       "      <td>276729</td>\n",
       "      <td>052165615X</td>\n",
       "      <td>3</td>\n",
       "    </tr>\n",
       "    <tr>\n",
       "      <th>4</th>\n",
       "      <td>276729</td>\n",
       "      <td>0521795028</td>\n",
       "      <td>6</td>\n",
       "    </tr>\n",
       "  </tbody>\n",
       "</table>\n",
       "</div>"
      ],
      "text/plain": [
       "   User-ID        ISBN  Book-Rating\n",
       "0  276725   034545104X  0          \n",
       "1  276726   0155061224  5          \n",
       "2  276727   0446520802  0          \n",
       "3  276729   052165615X  3          \n",
       "4  276729   0521795028  6          "
      ]
     },
     "execution_count": 32,
     "metadata": {},
     "output_type": "execute_result"
    }
   ],
   "source": [
    "print(\"Columns: \", list(ratings.columns))\n",
    "ratings.head()"
   ]
  },
  {
   "cell_type": "code",
   "execution_count": 33,
   "id": "fc0b742d",
   "metadata": {},
   "outputs": [
    {
     "data": {
      "text/plain": [
       "User-ID        0\n",
       "ISBN           0\n",
       "Book-Rating    0\n",
       "dtype: int64"
      ]
     },
     "execution_count": 33,
     "metadata": {},
     "output_type": "execute_result"
    }
   ],
   "source": [
    "## Checking for null values\n",
    "ratings.isnull().sum() "
   ]
  },
  {
   "cell_type": "code",
   "execution_count": 34,
   "id": "870ef52c",
   "metadata": {},
   "outputs": [
    {
     "name": "stdout",
     "output_type": "stream",
     "text": [
      "True\n"
     ]
    }
   ],
   "source": [
    "## checking all ratings number or not\n",
    "print(is_numeric_dtype(ratings['Book-Rating']))"
   ]
  },
  {
   "cell_type": "code",
   "execution_count": 35,
   "id": "2d9391ab",
   "metadata": {},
   "outputs": [
    {
     "name": "stdout",
     "output_type": "stream",
     "text": [
      "True\n"
     ]
    }
   ],
   "source": [
    "## checking User-ID contains only number or not\n",
    "print(is_numeric_dtype(ratings['User-ID']))"
   ]
  },
  {
   "cell_type": "code",
   "execution_count": 36,
   "id": "e84fdc64",
   "metadata": {},
   "outputs": [
    {
     "name": "stdout",
     "output_type": "stream",
     "text": [
      "False\n"
     ]
    }
   ],
   "source": [
    "## checking ISBN\n",
    "flag = 0\n",
    "k =[]\n",
    "reg = \"[^A-Za-z0-9]\"\n",
    "\n",
    "for x in ratings['ISBN']:\n",
    "    z = re.search(reg,x)    \n",
    "    if z:\n",
    "        flag = 1\n",
    "\n",
    "if flag == 1:\n",
    "    print(\"False\")\n",
    "else:\n",
    "    print(\"True\")"
   ]
  },
  {
   "cell_type": "code",
   "execution_count": 37,
   "id": "ba75fbf3",
   "metadata": {},
   "outputs": [],
   "source": [
    "## removing extra characters from ISBN (from ratings dataset) existing in books dataset\n",
    "bookISBN = books['ISBN'].tolist() \n",
    "reg = \"[^A-Za-z0-9]\" \n",
    "for index, row_Value in ratings.iterrows():\n",
    "    z = re.search(reg, row_Value['ISBN'])    \n",
    "    if z:\n",
    "        f = re.sub(reg,\"\",row_Value['ISBN'])\n",
    "        if f in bookISBN:\n",
    "            ratings.at[index , 'ISBN'] = f"
   ]
  },
  {
   "cell_type": "code",
   "execution_count": 38,
   "id": "121669f5",
   "metadata": {},
   "outputs": [],
   "source": [
    "## Uppercasing all alphabets in ISBN\n",
    "ratings['ISBN'] = ratings['ISBN'].str.upper()"
   ]
  },
  {
   "cell_type": "code",
   "execution_count": 39,
   "id": "8e8d7624",
   "metadata": {},
   "outputs": [],
   "source": [
    "## Drop duplicate rows\n",
    "ratings.drop_duplicates(keep='last', inplace=True)\n",
    "ratings.reset_index(drop=True, inplace=True)"
   ]
  },
  {
   "cell_type": "code",
   "execution_count": 40,
   "id": "ba75b2ac",
   "metadata": {},
   "outputs": [
    {
     "name": "stdout",
     "output_type": "stream",
     "text": [
      "<class 'pandas.core.frame.DataFrame'>\n",
      "RangeIndex: 1149776 entries, 0 to 1149775\n",
      "Data columns (total 3 columns):\n",
      " #   Column       Non-Null Count    Dtype \n",
      "---  ------       --------------    ----- \n",
      " 0   User-ID      1149776 non-null  int64 \n",
      " 1   ISBN         1149776 non-null  object\n",
      " 2   Book-Rating  1149776 non-null  int64 \n",
      "dtypes: int64(2), object(1)\n",
      "memory usage: 26.3+ MB\n"
     ]
    }
   ],
   "source": [
    "ratings.info()"
   ]
  },
  {
   "cell_type": "code",
   "execution_count": 41,
   "id": "7af07233",
   "metadata": {},
   "outputs": [
    {
     "data": {
      "text/html": [
       "<div>\n",
       "<style scoped>\n",
       "    .dataframe tbody tr th:only-of-type {\n",
       "        vertical-align: middle;\n",
       "    }\n",
       "\n",
       "    .dataframe tbody tr th {\n",
       "        vertical-align: top;\n",
       "    }\n",
       "\n",
       "    .dataframe thead th {\n",
       "        text-align: right;\n",
       "    }\n",
       "</style>\n",
       "<table border=\"1\" class=\"dataframe\">\n",
       "  <thead>\n",
       "    <tr style=\"text-align: right;\">\n",
       "      <th></th>\n",
       "      <th>User-ID</th>\n",
       "      <th>ISBN</th>\n",
       "      <th>Book-Rating</th>\n",
       "    </tr>\n",
       "  </thead>\n",
       "  <tbody>\n",
       "    <tr>\n",
       "      <th>0</th>\n",
       "      <td>276725</td>\n",
       "      <td>034545104X</td>\n",
       "      <td>0</td>\n",
       "    </tr>\n",
       "    <tr>\n",
       "      <th>1</th>\n",
       "      <td>276726</td>\n",
       "      <td>0155061224</td>\n",
       "      <td>5</td>\n",
       "    </tr>\n",
       "    <tr>\n",
       "      <th>2</th>\n",
       "      <td>276727</td>\n",
       "      <td>0446520802</td>\n",
       "      <td>0</td>\n",
       "    </tr>\n",
       "    <tr>\n",
       "      <th>3</th>\n",
       "      <td>276729</td>\n",
       "      <td>052165615X</td>\n",
       "      <td>3</td>\n",
       "    </tr>\n",
       "    <tr>\n",
       "      <th>4</th>\n",
       "      <td>276729</td>\n",
       "      <td>0521795028</td>\n",
       "      <td>6</td>\n",
       "    </tr>\n",
       "  </tbody>\n",
       "</table>\n",
       "</div>"
      ],
      "text/plain": [
       "   User-ID        ISBN  Book-Rating\n",
       "0  276725   034545104X  0          \n",
       "1  276726   0155061224  5          \n",
       "2  276727   0446520802  0          \n",
       "3  276729   052165615X  3          \n",
       "4  276729   0521795028  6          "
      ]
     },
     "execution_count": 41,
     "metadata": {},
     "output_type": "execute_result"
    }
   ],
   "source": [
    "ratings.head()"
   ]
  },
  {
   "cell_type": "markdown",
   "id": "3805d0f3",
   "metadata": {},
   "source": [
    "Merging of all three Tables"
   ]
  },
  {
   "cell_type": "code",
   "execution_count": 42,
   "id": "d8f46d79",
   "metadata": {},
   "outputs": [
    {
     "name": "stdout",
     "output_type": "stream",
     "text": [
      "<class 'pandas.core.frame.DataFrame'>\n",
      "Int64Index: 1031609 entries, 0 to 1031608\n",
      "Data columns (total 11 columns):\n",
      " #   Column               Non-Null Count    Dtype \n",
      "---  ------               --------------    ----- \n",
      " 0   ISBN                 1031609 non-null  object\n",
      " 1   Book-Title           1031609 non-null  object\n",
      " 2   Book-Author          1031609 non-null  object\n",
      " 3   Year-Of-Publication  1031609 non-null  int32 \n",
      " 4   Publisher            1031609 non-null  object\n",
      " 5   User-ID              1031609 non-null  int64 \n",
      " 6   Book-Rating          1031609 non-null  int64 \n",
      " 7   Age                  1031609 non-null  int32 \n",
      " 8   City                 1031609 non-null  object\n",
      " 9   State                1031609 non-null  object\n",
      " 10  Country              1031609 non-null  object\n",
      "dtypes: int32(2), int64(2), object(7)\n",
      "memory usage: 86.6+ MB\n"
     ]
    }
   ],
   "source": [
    "dataset = pd.merge(books, ratings, on='ISBN', how='inner')\n",
    "dataset = pd.merge(dataset, users, on='User-ID', how='inner')\n",
    "dataset.info()"
   ]
  },
  {
   "cell_type": "markdown",
   "id": "f14b067b",
   "metadata": {},
   "source": [
    "Divide complete data on the basis of Implicit and Explicit ratings datasets"
   ]
  },
  {
   "cell_type": "code",
   "execution_count": 43,
   "id": "204b4ed1",
   "metadata": {},
   "outputs": [
    {
     "data": {
      "text/plain": [
       "(384074, 11)"
      ]
     },
     "execution_count": 43,
     "metadata": {},
     "output_type": "execute_result"
    }
   ],
   "source": [
    "## Explicit Ratings Dataset\n",
    "dataset1 = dataset[dataset['Book-Rating'] != 0]\n",
    "dataset1 = dataset1.reset_index(drop = True)\n",
    "dataset1.shape"
   ]
  },
  {
   "cell_type": "code",
   "execution_count": 44,
   "id": "e52d3bd9",
   "metadata": {},
   "outputs": [
    {
     "data": {
      "text/plain": [
       "(647535, 11)"
      ]
     },
     "execution_count": 44,
     "metadata": {},
     "output_type": "execute_result"
    }
   ],
   "source": [
    "## Implicit Ratings Dataset\n",
    "dataset2 = dataset[dataset['Book-Rating'] == 0]\n",
    "dataset2 = dataset2.reset_index(drop = True)\n",
    "dataset2.shape"
   ]
  },
  {
   "cell_type": "code",
   "execution_count": 45,
   "id": "6944f48f",
   "metadata": {},
   "outputs": [
    {
     "data": {
      "text/html": [
       "<div>\n",
       "<style scoped>\n",
       "    .dataframe tbody tr th:only-of-type {\n",
       "        vertical-align: middle;\n",
       "    }\n",
       "\n",
       "    .dataframe tbody tr th {\n",
       "        vertical-align: top;\n",
       "    }\n",
       "\n",
       "    .dataframe thead th {\n",
       "        text-align: right;\n",
       "    }\n",
       "</style>\n",
       "<table border=\"1\" class=\"dataframe\">\n",
       "  <thead>\n",
       "    <tr style=\"text-align: right;\">\n",
       "      <th></th>\n",
       "      <th>ISBN</th>\n",
       "      <th>Book-Title</th>\n",
       "      <th>Book-Author</th>\n",
       "      <th>Year-Of-Publication</th>\n",
       "      <th>Publisher</th>\n",
       "      <th>User-ID</th>\n",
       "      <th>Book-Rating</th>\n",
       "      <th>Age</th>\n",
       "      <th>City</th>\n",
       "      <th>State</th>\n",
       "      <th>Country</th>\n",
       "    </tr>\n",
       "  </thead>\n",
       "  <tbody>\n",
       "    <tr>\n",
       "      <th>0</th>\n",
       "      <td>0002005018</td>\n",
       "      <td>Clara Callan</td>\n",
       "      <td>Richard Bruce Wright</td>\n",
       "      <td>2001</td>\n",
       "      <td>HarperFlamingo Canada</td>\n",
       "      <td>8</td>\n",
       "      <td>5</td>\n",
       "      <td>35</td>\n",
       "      <td>timmins</td>\n",
       "      <td>ontario</td>\n",
       "      <td>canada</td>\n",
       "    </tr>\n",
       "    <tr>\n",
       "      <th>1</th>\n",
       "      <td>074322678X</td>\n",
       "      <td>Where You'll Find Me: And Other Stories</td>\n",
       "      <td>Ann Beattie</td>\n",
       "      <td>2002</td>\n",
       "      <td>Scribner</td>\n",
       "      <td>8</td>\n",
       "      <td>5</td>\n",
       "      <td>35</td>\n",
       "      <td>timmins</td>\n",
       "      <td>ontario</td>\n",
       "      <td>canada</td>\n",
       "    </tr>\n",
       "    <tr>\n",
       "      <th>2</th>\n",
       "      <td>0887841740</td>\n",
       "      <td>The Middle Stories</td>\n",
       "      <td>Sheila Heti</td>\n",
       "      <td>2004</td>\n",
       "      <td>House of Anansi Press</td>\n",
       "      <td>8</td>\n",
       "      <td>5</td>\n",
       "      <td>35</td>\n",
       "      <td>timmins</td>\n",
       "      <td>ontario</td>\n",
       "      <td>canada</td>\n",
       "    </tr>\n",
       "    <tr>\n",
       "      <th>3</th>\n",
       "      <td>1552041778</td>\n",
       "      <td>Jane Doe</td>\n",
       "      <td>R. J. Kaiser</td>\n",
       "      <td>1999</td>\n",
       "      <td>Mira Books</td>\n",
       "      <td>8</td>\n",
       "      <td>5</td>\n",
       "      <td>35</td>\n",
       "      <td>timmins</td>\n",
       "      <td>ontario</td>\n",
       "      <td>canada</td>\n",
       "    </tr>\n",
       "    <tr>\n",
       "      <th>4</th>\n",
       "      <td>1567407781</td>\n",
       "      <td>The Witchfinder (Amos Walker Mystery Series)</td>\n",
       "      <td>Loren D. Estleman</td>\n",
       "      <td>1998</td>\n",
       "      <td>Brilliance Audio - Trade</td>\n",
       "      <td>8</td>\n",
       "      <td>6</td>\n",
       "      <td>35</td>\n",
       "      <td>timmins</td>\n",
       "      <td>ontario</td>\n",
       "      <td>canada</td>\n",
       "    </tr>\n",
       "  </tbody>\n",
       "</table>\n",
       "</div>"
      ],
      "text/plain": [
       "         ISBN                                    Book-Title  \\\n",
       "0  0002005018  Clara Callan                                   \n",
       "1  074322678X  Where You'll Find Me: And Other Stories        \n",
       "2  0887841740  The Middle Stories                             \n",
       "3  1552041778  Jane Doe                                       \n",
       "4  1567407781  The Witchfinder (Amos Walker Mystery Series)   \n",
       "\n",
       "            Book-Author  Year-Of-Publication                 Publisher  \\\n",
       "0  Richard Bruce Wright  2001                 HarperFlamingo Canada      \n",
       "1  Ann Beattie           2002                 Scribner                   \n",
       "2  Sheila Heti           2004                 House of Anansi Press      \n",
       "3  R. J. Kaiser          1999                 Mira Books                 \n",
       "4  Loren D. Estleman     1998                 Brilliance Audio - Trade   \n",
       "\n",
       "   User-ID  Book-Rating  Age     City    State Country  \n",
       "0  8        5            35   timmins  ontario  canada  \n",
       "1  8        5            35   timmins  ontario  canada  \n",
       "2  8        5            35   timmins  ontario  canada  \n",
       "3  8        5            35   timmins  ontario  canada  \n",
       "4  8        6            35   timmins  ontario  canada  "
      ]
     },
     "execution_count": 45,
     "metadata": {},
     "output_type": "execute_result"
    }
   ],
   "source": [
    "\n",
    "dataset1.head()"
   ]
  },
  {
   "cell_type": "markdown",
   "id": "1bbd799a",
   "metadata": {},
   "source": [
    "Data Visualization"
   ]
  },
  {
   "cell_type": "code",
   "execution_count": 46,
   "id": "e2637053",
   "metadata": {},
   "outputs": [
    {
     "data": {
      "image/png": "[encoded data removed]",
      "text/plain": [
       "<Figure size 3960x1080 with 1 Axes>"
      ]
     },
     "metadata": {
      "needs_background": "light"
     },
     "output_type": "display_data"
    }
   ],
   "source": [
    "publications = {}\n",
    "for year in books['Year-Of-Publication']:\n",
    "    if str(year) not in publications:\n",
    "        publications[str(year)] = 0\n",
    "    publications[str(year)] +=1\n",
    "\n",
    "publications = {k:v for k, v in sorted(publications.items())}\n",
    "\n",
    "fig = plt.figure(figsize =(55, 15))\n",
    "plt.bar(list(publications.keys()),list(publications.values()), color = 'blue')\n",
    "plt.ylabel(\"Number of books published\")\n",
    "plt.xlabel(\"Year of Publication\")\n",
    "plt.title(\"Number of books published yearly\")\n",
    "plt.margins(x = 0)\n",
    "plt.show()"
   ]
  },
  {
   "cell_type": "code",
   "execution_count": 47,
   "id": "edf572cd",
   "metadata": {},
   "outputs": [
    {
     "data": {
      "text/plain": [
       "Text(0.5, 1.0, 'No of books by an author (Top 15)')"
      ]
     },
     "execution_count": 47,
     "metadata": {},
     "output_type": "execute_result"
    },
    {
     "data": {
      "image/png": "[encoded data removed]",
      "text/plain": [
       "<Figure size 1080x432 with 1 Axes>"
      ]
     },
     "metadata": {
      "needs_background": "light"
     },
     "output_type": "display_data"
    }
   ],
   "source": [
    "plt.figure(figsize=(15,6))\n",
    "sns.countplot(y=\"Book-Author\", data=books,order=books['Book-Author'].value_counts().index[0:15])\n",
    "plt.title(\"No of books by an author (Top 15)\")"
   ]
  },
  {
   "cell_type": "code",
   "execution_count": 48,
   "id": "b824c4e1",
   "metadata": {},
   "outputs": [
    {
     "data": {
      "text/plain": [
       "Text(0.5, 1.0, 'No of books published by a publisher (Top 15)')"
      ]
     },
     "execution_count": 48,
     "metadata": {},
     "output_type": "execute_result"
    },
    {
     "data": {
      "image/png": "[encoded data removed]",
      "text/plain": [
       "<Figure size 1080x432 with 1 Axes>"
      ]
     },
     "metadata": {
      "needs_background": "light"
     },
     "output_type": "display_data"
    }
   ],
   "source": [
    "plt.figure(figsize=(15,6))\n",
    "sns.countplot(y=\"Publisher\", data=books,order=books['Publisher'].value_counts().index[0:15])\n",
    "plt.title(\"No of books published by a publisher (Top 15)\")"
   ]
  },
  {
   "cell_type": "code",
   "execution_count": 49,
   "id": "9458f71b",
   "metadata": {},
   "outputs": [
    {
     "data": {
      "text/plain": [
       "<AxesSubplot:xlabel='Book-Rating', ylabel='count'>"
      ]
     },
     "execution_count": 49,
     "metadata": {},
     "output_type": "execute_result"
    },
    {
     "data": {
      "image/png": "[encoded data removed]",
      "text/plain": [
       "<Figure size 576x432 with 1 Axes>"
      ]
     },
     "metadata": {
      "needs_background": "light"
     },
     "output_type": "display_data"
    }
   ],
   "source": [
    "plt.figure(figsize=(8,6))\n",
    "sns.countplot(x=\"Book-Rating\", data=ratings)"
   ]
  },
  {
   "cell_type": "code",
   "execution_count": 50,
   "id": "86092d5f",
   "metadata": {},
   "outputs": [
    {
     "data": {
      "text/plain": [
       "Text(0.5, 1.0, 'Explicit Ratings')"
      ]
     },
     "execution_count": 50,
     "metadata": {},
     "output_type": "execute_result"
    },
    {
     "data": {
      "image/png": "[encoded data removed]",
      "text/plain": [
       "<Figure size 576x432 with 1 Axes>"
      ]
     },
     "metadata": {
      "needs_background": "light"
     },
     "output_type": "display_data"
    }
   ],
   "source": [
    "## Explicit Ratings\n",
    "plt.figure(figsize=(8,6))\n",
    "data = ratings[ratings['Book-Rating'] != 0]\n",
    "sns.countplot(x=\"Book-Rating\", data=data)\n",
    "plt.title(\"Explicit Ratings\")"
   ]
  },
  {
   "cell_type": "code",
   "execution_count": 51,
   "id": "57891c57",
   "metadata": {},
   "outputs": [
    {
     "data": {
      "image/png": "[encoded data removed]",
      "text/plain": [
       "<Figure size 576x432 with 1 Axes>"
      ]
     },
     "metadata": {
      "needs_background": "light"
     },
     "output_type": "display_data"
    }
   ],
   "source": [
    "plt.figure(figsize=(8,6))\n",
    "users.Age.hist(bins=[10*i for i in range(1, 10)])     \n",
    "plt.title('Age Distribution')\n",
    "plt.xlabel('Age')\n",
    "plt.ylabel('Count')\n",
    "plt.show()"
   ]
  },
  {
   "cell_type": "code",
   "execution_count": 52,
   "id": "585a049b",
   "metadata": {},
   "outputs": [
    {
     "data": {
      "text/plain": [
       "Text(0.5, 1.0, 'No of readers from each city (Top 15)')"
      ]
     },
     "execution_count": 52,
     "metadata": {},
     "output_type": "execute_result"
    },
    {
     "data": {
      "image/png": "[encoded data removed]",
      "text/plain": [
       "<Figure size 1440x432 with 1 Axes>"
      ]
     },
     "metadata": {
      "needs_background": "light"
     },
     "output_type": "display_data"
    }
   ],
   "source": [
    "plt.figure(figsize=(20,6))\n",
    "sns.countplot(x=\"City\", data=users,order=users['City'].value_counts().index[0:15])\n",
    "plt.title(\"No of readers from each city (Top 15)\")"
   ]
  },
  {
   "cell_type": "code",
   "execution_count": 53,
   "id": "c1717ef5",
   "metadata": {},
   "outputs": [
    {
     "data": {
      "text/plain": [
       "Text(0.5, 1.0, 'No of readers from each state (Top 15)')"
      ]
     },
     "execution_count": 53,
     "metadata": {},
     "output_type": "execute_result"
    },
    {
     "data": {
      "image/png": "[encoded data removed]",
      "text/plain": [
       "<Figure size 1440x432 with 1 Axes>"
      ]
     },
     "metadata": {
      "needs_background": "light"
     },
     "output_type": "display_data"
    }
   ],
   "source": [
    "plt.figure(figsize=(20,6))\n",
    "sns.countplot(x=\"State\", data=users,order=users['State'].value_counts().index[0:15])\n",
    "plt.title(\"No of readers from each state (Top 15)\")"
   ]
  },
  {
   "cell_type": "code",
   "execution_count": 54,
   "id": "71bef286",
   "metadata": {},
   "outputs": [
    {
     "data": {
      "text/plain": [
       "Text(0.5, 1.0, 'No of readers from each country (Top 10)')"
      ]
     },
     "execution_count": 54,
     "metadata": {},
     "output_type": "execute_result"
    },
    {
     "data": {
      "image/png": "[encoded data removed]",
      "text/plain": [
       "<Figure size 1080x576 with 1 Axes>"
      ]
     },
     "metadata": {
      "needs_background": "light"
     },
     "output_type": "display_data"
    }
   ],
   "source": [
    "\n",
    "plt.figure(figsize=(15,8))\n",
    "sns.countplot(y=\"Country\", data=users, order=users['Country'].value_counts().index[0:10])\n",
    "plt.title(\"No of readers from each country (Top 10)\")"
   ]
  },
  {
   "cell_type": "code",
   "execution_count": 55,
   "id": "a623bbf7",
   "metadata": {},
   "outputs": [
    {
     "data": {
      "text/plain": [
       "Text(0.5, 1.0, 'No of readers from states of USA (Top 15)')"
      ]
     },
     "execution_count": 55,
     "metadata": {},
     "output_type": "execute_result"
    },
    {
     "data": {
      "image/png": "[encoded data removed]",
      "text/plain": [
       "<Figure size 1440x432 with 1 Axes>"
      ]
     },
     "metadata": {
      "needs_background": "light"
     },
     "output_type": "display_data"
    }
   ],
   "source": [
    "data=users[users['Country']=='usa']\n",
    "plt.figure(figsize=(20,6))\n",
    "sns.countplot(x=\"State\", data=data,order=data['State'].value_counts().index[0:15])\n",
    "plt.title(\"No of readers from states of USA (Top 15)\")"
   ]
  },
  {
   "cell_type": "code",
   "execution_count": 56,
   "id": "8926f8f3",
   "metadata": {},
   "outputs": [
    {
     "data": {
      "text/plain": [
       "Text(0.5, 1.0, 'Number of Ratings for a book (Top 15)')"
      ]
     },
     "execution_count": 56,
     "metadata": {},
     "output_type": "execute_result"
    },
    {
     "data": {
      "image/png": "[encoded data removed]",
      "text/plain": [
       "<Figure size 1080x576 with 1 Axes>"
      ]
     },
     "metadata": {
      "needs_background": "light"
     },
     "output_type": "display_data"
    }
   ],
   "source": [
    "plt.figure(figsize=(15,8))\n",
    "sns.countplot(y=\"Book-Title\", data=dataset, order=dataset['Book-Title'].value_counts().index[0:15])\n",
    "plt.title(\"Number of Ratings for a book (Top 15)\")"
   ]
  },
  {
   "cell_type": "markdown",
   "id": "0ab90278",
   "metadata": {},
   "source": [
    "# Recommendation Systems\n"
   ]
  },
  {
   "cell_type": "code",
   "execution_count": 57,
   "id": "93d8a795",
   "metadata": {},
   "outputs": [
    {
     "name": "stdout",
     "output_type": "stream",
     "text": [
      "Enter a book name: Harry Potter and the Sorcerer's Stone (Harry Potter (Paperback))\n",
      "Enter number of books to recommend: 5\n"
     ]
    }
   ],
   "source": [
    "bookName = input(\"Enter a book name: \")\n",
    "number = int(input(\"Enter number of books to recommend: \"))\n",
    "\n",
    "# Harry Potter and the Sorcerer's Stone (Harry Potter (Paperback))\n",
    "#enter number of books to recommend 5"
   ]
  },
  {
   "cell_type": "markdown",
   "id": "d404ae12",
   "metadata": {},
   "source": [
    "1. Popularity Based (Top In whole collection)"
   ]
  },
  {
   "cell_type": "code",
   "execution_count": 58,
   "id": "13f437b8",
   "metadata": {},
   "outputs": [],
   "source": [
    "def popularity_based(dataframe, n):\n",
    "    if n >= 1 and n <= len(dataframe):\n",
    "        data = pd.DataFrame(dataframe.groupby('ISBN')['Book-Rating'].count()).sort_values('Book-Rating', ascending=False).head(n)\n",
    "        result = pd.merge(data, books, on='ISBN')\n",
    "        return result\n",
    "    return \"Invalid number of books entered!!\""
   ]
  },
  {
   "cell_type": "code",
   "execution_count": 59,
   "id": "db6c7e78",
   "metadata": {},
   "outputs": [
    {
     "name": "stdout",
     "output_type": "stream",
     "text": [
      "Top 5 Popular books are: \n"
     ]
    },
    {
     "data": {
      "text/html": [
       "<div>\n",
       "<style scoped>\n",
       "    .dataframe tbody tr th:only-of-type {\n",
       "        vertical-align: middle;\n",
       "    }\n",
       "\n",
       "    .dataframe tbody tr th {\n",
       "        vertical-align: top;\n",
       "    }\n",
       "\n",
       "    .dataframe thead th {\n",
       "        text-align: right;\n",
       "    }\n",
       "</style>\n",
       "<table border=\"1\" class=\"dataframe\">\n",
       "  <thead>\n",
       "    <tr style=\"text-align: right;\">\n",
       "      <th></th>\n",
       "      <th>ISBN</th>\n",
       "      <th>Book-Rating</th>\n",
       "      <th>Book-Title</th>\n",
       "      <th>Book-Author</th>\n",
       "      <th>Year-Of-Publication</th>\n",
       "      <th>Publisher</th>\n",
       "    </tr>\n",
       "  </thead>\n",
       "  <tbody>\n",
       "    <tr>\n",
       "      <th>0</th>\n",
       "      <td>0316666343</td>\n",
       "      <td>707</td>\n",
       "      <td>The Lovely Bones: A Novel</td>\n",
       "      <td>Alice Sebold</td>\n",
       "      <td>2002</td>\n",
       "      <td>Little, Brown</td>\n",
       "    </tr>\n",
       "    <tr>\n",
       "      <th>1</th>\n",
       "      <td>0971880107</td>\n",
       "      <td>581</td>\n",
       "      <td>Wild Animus</td>\n",
       "      <td>Rich Shapero</td>\n",
       "      <td>2004</td>\n",
       "      <td>Too Far</td>\n",
       "    </tr>\n",
       "    <tr>\n",
       "      <th>2</th>\n",
       "      <td>0385504209</td>\n",
       "      <td>488</td>\n",
       "      <td>The Da Vinci Code</td>\n",
       "      <td>Dan Brown</td>\n",
       "      <td>2003</td>\n",
       "      <td>Doubleday</td>\n",
       "    </tr>\n",
       "    <tr>\n",
       "      <th>3</th>\n",
       "      <td>0312195516</td>\n",
       "      <td>383</td>\n",
       "      <td>The Red Tent (Bestselling Backlist)</td>\n",
       "      <td>Anita Diamant</td>\n",
       "      <td>1998</td>\n",
       "      <td>Picador USA</td>\n",
       "    </tr>\n",
       "    <tr>\n",
       "      <th>4</th>\n",
       "      <td>0060928336</td>\n",
       "      <td>320</td>\n",
       "      <td>Divine Secrets of the Ya-Ya Sisterhood: A Novel</td>\n",
       "      <td>Rebecca Wells</td>\n",
       "      <td>1997</td>\n",
       "      <td>Perennial</td>\n",
       "    </tr>\n",
       "  </tbody>\n",
       "</table>\n",
       "</div>"
      ],
      "text/plain": [
       "         ISBN  Book-Rating                                       Book-Title  \\\n",
       "0  0316666343  707          The Lovely Bones: A Novel                         \n",
       "1  0971880107  581          Wild Animus                                       \n",
       "2  0385504209  488          The Da Vinci Code                                 \n",
       "3  0312195516  383          The Red Tent (Bestselling Backlist)               \n",
       "4  0060928336  320          Divine Secrets of the Ya-Ya Sisterhood: A Novel   \n",
       "\n",
       "     Book-Author  Year-Of-Publication      Publisher  \n",
       "0  Alice Sebold   2002                 Little, Brown  \n",
       "1  Rich Shapero   2004                 Too Far        \n",
       "2  Dan Brown      2003                 Doubleday      \n",
       "3  Anita Diamant  1998                 Picador USA    \n",
       "4  Rebecca Wells  1997                 Perennial      "
      ]
     },
     "execution_count": 59,
     "metadata": {},
     "output_type": "execute_result"
    }
   ],
   "source": [
    "print(\"Top\", number, \"Popular books are: \")\n",
    "popularity_based(dataset1, number)"
   ]
  },
  {
   "cell_type": "markdown",
   "id": "cd0aa2c9",
   "metadata": {},
   "source": [
    "2. Popularity Based (Top In a given place)"
   ]
  },
  {
   "cell_type": "code",
   "execution_count": 60,
   "id": "02939d0d",
   "metadata": {},
   "outputs": [],
   "source": [
    "def search_unique_places(dataframe, place):\n",
    "    place = place.lower()\n",
    "\n",
    "    if place in list(dataframe['City'].unique()):\n",
    "        return dataframe[dataframe['City'] == place]\n",
    "    elif place in list(dataframe['State'].unique()):\n",
    "        return dataframe[dataframe['State'] == place]\n",
    "    elif place in list(dataframe['Country'].unique()):\n",
    "        return dataframe[dataframe['Country'] == place]\n",
    "    else:\n",
    "        return \"Invalid Entry\"\n",
    " "
   ]
  },
  {
   "cell_type": "code",
   "execution_count": 61,
   "id": "1a6664de",
   "metadata": {},
   "outputs": [
    {
     "name": "stdout",
     "output_type": "stream",
     "text": [
      "Enter the name of place: uk\n"
     ]
    },
    {
     "data": {
      "text/html": [
       "<div>\n",
       "<style scoped>\n",
       "    .dataframe tbody tr th:only-of-type {\n",
       "        vertical-align: middle;\n",
       "    }\n",
       "\n",
       "    .dataframe tbody tr th {\n",
       "        vertical-align: top;\n",
       "    }\n",
       "\n",
       "    .dataframe thead th {\n",
       "        text-align: right;\n",
       "    }\n",
       "</style>\n",
       "<table border=\"1\" class=\"dataframe\">\n",
       "  <thead>\n",
       "    <tr style=\"text-align: right;\">\n",
       "      <th></th>\n",
       "      <th>ISBN</th>\n",
       "      <th>Book-Rating</th>\n",
       "      <th>Book-Title</th>\n",
       "      <th>Book-Author</th>\n",
       "      <th>Year-Of-Publication</th>\n",
       "      <th>Publisher</th>\n",
       "    </tr>\n",
       "  </thead>\n",
       "  <tbody>\n",
       "    <tr>\n",
       "      <th>0</th>\n",
       "      <td>0192862103</td>\n",
       "      <td>1</td>\n",
       "      <td>Predictions: Thirty Great Minds on the Future (Popular Science)</td>\n",
       "      <td>Sian Griffiths</td>\n",
       "      <td>2000</td>\n",
       "      <td>Oxford University Press</td>\n",
       "    </tr>\n",
       "    <tr>\n",
       "      <th>1</th>\n",
       "      <td>0304343390</td>\n",
       "      <td>1</td>\n",
       "      <td>Poems on the Underground</td>\n",
       "      <td>Gerard Benson</td>\n",
       "      <td>1993</td>\n",
       "      <td>Orion Publishing Co</td>\n",
       "    </tr>\n",
       "    <tr>\n",
       "      <th>2</th>\n",
       "      <td>1857025024</td>\n",
       "      <td>1</td>\n",
       "      <td>Longitude Uk Edition True Story of a Lone Gen</td>\n",
       "      <td>Dava Sobel</td>\n",
       "      <td>2002</td>\n",
       "      <td>Fourth Estate</td>\n",
       "    </tr>\n",
       "    <tr>\n",
       "      <th>3</th>\n",
       "      <td>1853267481</td>\n",
       "      <td>1</td>\n",
       "      <td>Best of Sherlock Holmes</td>\n",
       "      <td>A. C. Doyle</td>\n",
       "      <td>1999</td>\n",
       "      <td>Lb May &amp;amp; Assoc Inc</td>\n",
       "    </tr>\n",
       "    <tr>\n",
       "      <th>4</th>\n",
       "      <td>1573221228</td>\n",
       "      <td>1</td>\n",
       "      <td>The Wall</td>\n",
       "      <td>John Marks</td>\n",
       "      <td>1998</td>\n",
       "      <td>Putnam Pub Group</td>\n",
       "    </tr>\n",
       "  </tbody>\n",
       "</table>\n",
       "</div>"
      ],
      "text/plain": [
       "         ISBN  Book-Rating  \\\n",
       "0  0192862103  1             \n",
       "1  0304343390  1             \n",
       "2  1857025024  1             \n",
       "3  1853267481  1             \n",
       "4  1573221228  1             \n",
       "\n",
       "                                                        Book-Title  \\\n",
       "0  Predictions: Thirty Great Minds on the Future (Popular Science)   \n",
       "1  Poems on the Underground                                          \n",
       "2  Longitude Uk Edition True Story of a Lone Gen                     \n",
       "3  Best of Sherlock Holmes                                           \n",
       "4  The Wall                                                          \n",
       "\n",
       "      Book-Author  Year-Of-Publication                Publisher  \n",
       "0  Sian Griffiths  2000                 Oxford University Press  \n",
       "1  Gerard Benson   1993                 Orion Publishing Co      \n",
       "2  Dava Sobel      2002                 Fourth Estate            \n",
       "3  A. C. Doyle     1999                 Lb May &amp; Assoc Inc   \n",
       "4  John Marks      1998                 Putnam Pub Group         "
      ]
     },
     "execution_count": 61,
     "metadata": {},
     "output_type": "execute_result"
    }
   ],
   "source": [
    "place = input(\"Enter the name of place: \")\n",
    "data = search_unique_places(dataset1, place)\n",
    "\n",
    "if isinstance(data, pd.DataFrame):\n",
    "    data = popularity_based(data, number)\n",
    "\n",
    "data\n",
    "#Enter the name of place: uk"
   ]
  },
  {
   "cell_type": "markdown",
   "id": "c4d21e11",
   "metadata": {},
   "source": [
    "3. Books by same author, publisher of given book name"
   ]
  },
  {
   "cell_type": "code",
   "execution_count": 62,
   "id": "4ea0fea4",
   "metadata": {},
   "outputs": [],
   "source": [
    "def printBook(k, n):\n",
    "    z = k['Book-Title'].unique()\n",
    "    for x in range(len(z)):\n",
    "        print(z[x])\n",
    "        if x >= n-1:\n",
    "            break"
   ]
  },
  {
   "cell_type": "code",
   "execution_count": 63,
   "id": "3cf3c355",
   "metadata": {},
   "outputs": [],
   "source": [
    "def get_books(dataframe, name, n):\n",
    "    print(\"\\nBooks by same Author:\\n\")\n",
    "    au = dataframe['Book-Author'].unique()\n",
    "\n",
    "    data = dataset1[dataset1['Book-Title'] != name]\n",
    "\n",
    "    if au[0] in list(data['Book-Author'].unique()):\n",
    "        k2 = data[data['Book-Author'] == au[0]]\n",
    "    k2 = k2.sort_values(by=['Book-Rating'])\n",
    "    printBook(k2, n)\n",
    "\n",
    "    print(\"\\n\\nBooks by same Publisher:\\n\")\n",
    "    au = dataframe['Publisher'].unique()\n",
    "\n",
    "    if au[0] in list(data['Publisher'].unique()):\n",
    "        k2 = pd.DataFrame(data[data['Publisher'] == au[0]])\n",
    "    k2=k2.sort_values(by=['Book-Rating']) \n",
    "    printBook(k2, n)"
   ]
  },
  {
   "cell_type": "code",
   "execution_count": 64,
   "id": "61a327bb",
   "metadata": {},
   "outputs": [
    {
     "name": "stdout",
     "output_type": "stream",
     "text": [
      "\n",
      "Books by same Author:\n",
      "\n",
      "Harry Potter and the Goblet of Fire (Book 4)\n",
      "Harry Potter and the Order of the Phoenix (Book 5)\n",
      "Harry Potter y el cÃ¡liz de fuego\n",
      "Harry Potter and the Chamber of Secrets (Book 2)\n",
      "Harry Potter and the Sorcerer's Stone (Book 1)\n",
      "\n",
      "\n",
      "Books by same Publisher:\n",
      "\n",
      "The Seeing Stone\n",
      "The Slightly True Story of Cedar B. Hartley: Who Planned to Live an Unusual Life\n",
      "Harry Potter and the Chamber of Secrets (Harry Potter)\n",
      "The Story of the Seagull and the Cat Who Taught Her To Fly\n",
      "Book! Book! Book!\n"
     ]
    }
   ],
   "source": [
    "if bookName in list(dataset1['Book-Title'].unique()):\n",
    "    d = dataset1[dataset1['Book-Title'] == bookName]\n",
    "    get_books(d, bookName, number)\n",
    "else:\n",
    "    print(\"Invalid Book Name!!\")"
   ]
  },
  {
   "cell_type": "markdown",
   "id": "33ad6d7d",
   "metadata": {},
   "source": [
    "4. Books popular Yearly"
   ]
  },
  {
   "cell_type": "code",
   "execution_count": 65,
   "id": "b5d722f1",
   "metadata": {},
   "outputs": [
    {
     "data": {
      "text/html": [
       "<div>\n",
       "<style scoped>\n",
       "    .dataframe tbody tr th:only-of-type {\n",
       "        vertical-align: middle;\n",
       "    }\n",
       "\n",
       "    .dataframe tbody tr th {\n",
       "        vertical-align: top;\n",
       "    }\n",
       "\n",
       "    .dataframe thead th {\n",
       "        text-align: right;\n",
       "    }\n",
       "</style>\n",
       "<table border=\"1\" class=\"dataframe\">\n",
       "  <thead>\n",
       "    <tr style=\"text-align: right;\">\n",
       "      <th></th>\n",
       "      <th>ISBN</th>\n",
       "      <th>Book-Title</th>\n",
       "      <th>Book-Author</th>\n",
       "      <th>Year-Of-Publication</th>\n",
       "      <th>Publisher</th>\n",
       "    </tr>\n",
       "  </thead>\n",
       "  <tbody>\n",
       "    <tr>\n",
       "      <th>73895</th>\n",
       "      <td>964442011X</td>\n",
       "      <td>Tasht-i khun</td>\n",
       "      <td>IsmaÂ°il Fasih</td>\n",
       "      <td>1376</td>\n",
       "      <td>Nashr-i Alburz</td>\n",
       "    </tr>\n",
       "    <tr>\n",
       "      <th>73896</th>\n",
       "      <td>9643112136</td>\n",
       "      <td>Dalan-i bihisht (Dastan-i Irani)</td>\n",
       "      <td>Nazi Safavi</td>\n",
       "      <td>1378</td>\n",
       "      <td>Intisharat-i Quqnus</td>\n",
       "    </tr>\n",
       "    <tr>\n",
       "      <th>130309</th>\n",
       "      <td>0781228956</td>\n",
       "      <td>Complete Works 10 Volumes [2,6,7,8,9] (Notable American Authors)</td>\n",
       "      <td>Benjamin Franklin</td>\n",
       "      <td>1806</td>\n",
       "      <td>Reprint Services Corp</td>\n",
       "    </tr>\n",
       "    <tr>\n",
       "      <th>81469</th>\n",
       "      <td>1551103982</td>\n",
       "      <td>The Cycling Adventures of Coconut Head: A North American Odyssey</td>\n",
       "      <td>Ted Schredd</td>\n",
       "      <td>1900</td>\n",
       "      <td>Graphic Arts Center Pub Co</td>\n",
       "    </tr>\n",
       "    <tr>\n",
       "      <th>125519</th>\n",
       "      <td>0671397214</td>\n",
       "      <td>JOY OF MUSIC     P</td>\n",
       "      <td>Leonard Bernstein</td>\n",
       "      <td>1901</td>\n",
       "      <td>Fireside</td>\n",
       "    </tr>\n",
       "    <tr>\n",
       "      <th>48634</th>\n",
       "      <td>0373226888</td>\n",
       "      <td>Tommy's Mom</td>\n",
       "      <td>Linda O. Johnston</td>\n",
       "      <td>1902</td>\n",
       "      <td>Harlequin</td>\n",
       "    </tr>\n",
       "    <tr>\n",
       "      <th>104339</th>\n",
       "      <td>038528120X</td>\n",
       "      <td>CATCH 22</td>\n",
       "      <td>JOSEPH HELLER</td>\n",
       "      <td>1904</td>\n",
       "      <td>Delta</td>\n",
       "    </tr>\n",
       "    <tr>\n",
       "      <th>103193</th>\n",
       "      <td>0404089119</td>\n",
       "      <td>Charlotte Bronte and Her Sisters</td>\n",
       "      <td>Clement K. Shorter</td>\n",
       "      <td>1906</td>\n",
       "      <td>Ams Pr</td>\n",
       "    </tr>\n",
       "    <tr>\n",
       "      <th>24664</th>\n",
       "      <td>0911662251</td>\n",
       "      <td>Kybalion: A Study of the Hermetic Philosophy of Ancient Egypt and Greece</td>\n",
       "      <td>Three Initiates</td>\n",
       "      <td>1908</td>\n",
       "      <td>Yoga Publication Society</td>\n",
       "    </tr>\n",
       "    <tr>\n",
       "      <th>53807</th>\n",
       "      <td>0892760508</td>\n",
       "      <td>New Birth</td>\n",
       "      <td>Kenneth Hagin</td>\n",
       "      <td>1911</td>\n",
       "      <td>Faith Library Publications</td>\n",
       "    </tr>\n",
       "    <tr>\n",
       "      <th>5085</th>\n",
       "      <td>0684717603</td>\n",
       "      <td>The GREAT GATSBY (Scribner Classic)</td>\n",
       "      <td>F. Scott Fritzgerald</td>\n",
       "      <td>1920</td>\n",
       "      <td>Scribner Paper Fiction</td>\n",
       "    </tr>\n",
       "    <tr>\n",
       "      <th>27322</th>\n",
       "      <td>0440745454</td>\n",
       "      <td>HOW TO EAT FRIED WORMS</td>\n",
       "      <td>THOMAS ROCKWELL</td>\n",
       "      <td>1923</td>\n",
       "      <td>Yearling</td>\n",
       "    </tr>\n",
       "    <tr>\n",
       "      <th>137809</th>\n",
       "      <td>0486600815</td>\n",
       "      <td>Principle of Relativity (Dover Books on Physics)</td>\n",
       "      <td>Albert Einstein</td>\n",
       "      <td>1924</td>\n",
       "      <td>Dover Publications</td>\n",
       "    </tr>\n",
       "    <tr>\n",
       "      <th>42688</th>\n",
       "      <td>0023381205</td>\n",
       "      <td>Great Gatsby, The</td>\n",
       "      <td>F. Scott Fitzgerald</td>\n",
       "      <td>1925</td>\n",
       "      <td>Prentice Hall</td>\n",
       "    </tr>\n",
       "    <tr>\n",
       "      <th>20533</th>\n",
       "      <td>0684718081</td>\n",
       "      <td>The Sun Also Rises</td>\n",
       "      <td>Ernest Hemingway</td>\n",
       "      <td>1926</td>\n",
       "      <td>Scribner Book Company</td>\n",
       "    </tr>\n",
       "    <tr>\n",
       "      <th>10313</th>\n",
       "      <td>0448089033</td>\n",
       "      <td>The Secret of the Old Mill (The Hardy Boys Mystery Stories, Book 3)</td>\n",
       "      <td>Franklin W. Dixon</td>\n",
       "      <td>1927</td>\n",
       "      <td>Grosset &amp;amp; Dunlap</td>\n",
       "    </tr>\n",
       "    <tr>\n",
       "      <th>73755</th>\n",
       "      <td>9997520858</td>\n",
       "      <td>Beau Ideal</td>\n",
       "      <td>Percival C. Wren</td>\n",
       "      <td>1928</td>\n",
       "      <td>Stokes Pub Co</td>\n",
       "    </tr>\n",
       "    <tr>\n",
       "      <th>6239</th>\n",
       "      <td>0684717972</td>\n",
       "      <td>Farewell to Arms</td>\n",
       "      <td>Ernest Hemingway</td>\n",
       "      <td>1929</td>\n",
       "      <td>Charles Scribner's Sons</td>\n",
       "    </tr>\n",
       "    <tr>\n",
       "      <th>1651</th>\n",
       "      <td>0448095017</td>\n",
       "      <td>The Secret of the Old Clock (Nancy Drew Mystery Stories, No 1)</td>\n",
       "      <td>Carolyn Keene</td>\n",
       "      <td>1930</td>\n",
       "      <td>Grosset &amp;amp; Dunlap</td>\n",
       "    </tr>\n",
       "    <tr>\n",
       "      <th>129651</th>\n",
       "      <td>074752694X</td>\n",
       "      <td>Bloomsbury Good Reading Guide</td>\n",
       "      <td>Kenneth McLeish</td>\n",
       "      <td>1931</td>\n",
       "      <td>Trafalgar Square Publishing</td>\n",
       "    </tr>\n",
       "    <tr>\n",
       "      <th>11037</th>\n",
       "      <td>0448095076</td>\n",
       "      <td>The Clue in the Diary (Nancy Drew Mystery Stories Number 7)</td>\n",
       "      <td>Carolyn Keene</td>\n",
       "      <td>1932</td>\n",
       "      <td>Imagination Studio</td>\n",
       "    </tr>\n",
       "    <tr>\n",
       "      <th>50997</th>\n",
       "      <td>0804617279</td>\n",
       "      <td>Legends of Angria,</td>\n",
       "      <td>Charlotte Bronte</td>\n",
       "      <td>1933</td>\n",
       "      <td>Gateway/Associated Faculty Pr</td>\n",
       "    </tr>\n",
       "    <tr>\n",
       "      <th>79781</th>\n",
       "      <td>0961505109</td>\n",
       "      <td>Narrow Land: Folk Chronicles of Old Cape Cod (Chatham Historical Society)</td>\n",
       "      <td>Elizabeth Reynard</td>\n",
       "      <td>1934</td>\n",
       "      <td>Parnassus Press</td>\n",
       "    </tr>\n",
       "    <tr>\n",
       "      <th>52332</th>\n",
       "      <td>0882436600</td>\n",
       "      <td>Through the Bible Book by Book: Genesis to Esthe/Part 1 (Through the Bible Book by Book)</td>\n",
       "      <td>Myer Pearlman</td>\n",
       "      <td>1935</td>\n",
       "      <td>Gospel Publishing House</td>\n",
       "    </tr>\n",
       "    <tr>\n",
       "      <th>14213</th>\n",
       "      <td>068483068X</td>\n",
       "      <td>Gone With the Wind</td>\n",
       "      <td>Margaret Mitchell</td>\n",
       "      <td>1936</td>\n",
       "      <td>Scribner</td>\n",
       "    </tr>\n",
       "    <tr>\n",
       "      <th>23018</th>\n",
       "      <td>0802812201</td>\n",
       "      <td>Descent into Hell</td>\n",
       "      <td>Charles Williams</td>\n",
       "      <td>1937</td>\n",
       "      <td>Wm. B. Eerdmans Publishing Company</td>\n",
       "    </tr>\n",
       "    <tr>\n",
       "      <th>10723</th>\n",
       "      <td>0395071224</td>\n",
       "      <td>The Hobbit</td>\n",
       "      <td>J. R. R. Tolkien</td>\n",
       "      <td>1938</td>\n",
       "      <td>Houghton Mifflin Company</td>\n",
       "    </tr>\n",
       "    <tr>\n",
       "      <th>73759</th>\n",
       "      <td>999750805X</td>\n",
       "      <td>The Happy Highwayman</td>\n",
       "      <td>Leslie Charteris</td>\n",
       "      <td>1939</td>\n",
       "      <td>Doubleday</td>\n",
       "    </tr>\n",
       "    <tr>\n",
       "      <th>35798</th>\n",
       "      <td>044808919X</td>\n",
       "      <td>Disappearing Floor (Hardy Boys Mystery Stories)</td>\n",
       "      <td>Franklin W. Dixon</td>\n",
       "      <td>1940</td>\n",
       "      <td>Grosset &amp;amp; Dunlap</td>\n",
       "    </tr>\n",
       "    <tr>\n",
       "      <th>33795</th>\n",
       "      <td>0448089203</td>\n",
       "      <td>Mystery of the Flying Express, (Hardy Boys Mystery Stories)</td>\n",
       "      <td>Franklin W. Dixon</td>\n",
       "      <td>1941</td>\n",
       "      <td>Grosset &amp;amp; Dunlap</td>\n",
       "    </tr>\n",
       "    <tr>\n",
       "      <th>9011</th>\n",
       "      <td>0060901012</td>\n",
       "      <td>Brave New World &amp;amp; Brave New World Revisited</td>\n",
       "      <td>Aldous Huxley</td>\n",
       "      <td>1942</td>\n",
       "      <td>Perennial</td>\n",
       "    </tr>\n",
       "    <tr>\n",
       "      <th>23888</th>\n",
       "      <td>0152465030</td>\n",
       "      <td>The Little Prince</td>\n",
       "      <td>Antoine De Saint-Exupery</td>\n",
       "      <td>1943</td>\n",
       "      <td>Harcourt</td>\n",
       "    </tr>\n",
       "    <tr>\n",
       "      <th>101841</th>\n",
       "      <td>0394906012</td>\n",
       "      <td>The Black Stallion</td>\n",
       "      <td>WALTER FARLEY</td>\n",
       "      <td>1944</td>\n",
       "      <td>Random House Books for Young Readers</td>\n",
       "    </tr>\n",
       "    <tr>\n",
       "      <th>12322</th>\n",
       "      <td>0060263954</td>\n",
       "      <td>Stuart Little 60th Anniversary Edition</td>\n",
       "      <td>E. B. White</td>\n",
       "      <td>1945</td>\n",
       "      <td>HarperCollins</td>\n",
       "    </tr>\n",
       "    <tr>\n",
       "      <th>7485</th>\n",
       "      <td>0448060043</td>\n",
       "      <td>Alice in Wonderland and Through the Looking Glass (Illustrated Junior Library)</td>\n",
       "      <td>Charles Lutwidge Dodgson</td>\n",
       "      <td>1946</td>\n",
       "      <td>Grosset &amp;amp; Dunlap</td>\n",
       "    </tr>\n",
       "    <tr>\n",
       "      <th>18684</th>\n",
       "      <td>0448095246</td>\n",
       "      <td>The Clue in the Old Album (Nancy Drew Mystery Stories, No 24)</td>\n",
       "      <td>Carolyn Keene</td>\n",
       "      <td>1947</td>\n",
       "      <td>Grosset &amp;amp; Dunlap</td>\n",
       "    </tr>\n",
       "    <tr>\n",
       "      <th>26377</th>\n",
       "      <td>0875160476</td>\n",
       "      <td>Secret Science Behind Miracles</td>\n",
       "      <td>Max F. Long</td>\n",
       "      <td>1948</td>\n",
       "      <td>DeVorss &amp;amp; Company</td>\n",
       "    </tr>\n",
       "    <tr>\n",
       "      <th>18650</th>\n",
       "      <td>0448095262</td>\n",
       "      <td>Clue of the Leaning Chimney (Nancy Drew (Hardcover))</td>\n",
       "      <td>Carolyn Keene</td>\n",
       "      <td>1949</td>\n",
       "      <td>Grosset &amp;amp; Dunlap</td>\n",
       "    </tr>\n",
       "    <tr>\n",
       "      <th>9313</th>\n",
       "      <td>0553213601</td>\n",
       "      <td>Cyrano De Bergerac (Bantam Classics)</td>\n",
       "      <td>EDMOND ROSTAND</td>\n",
       "      <td>1950</td>\n",
       "      <td>Bantam</td>\n",
       "    </tr>\n",
       "    <tr>\n",
       "      <th>4824</th>\n",
       "      <td>081120068X</td>\n",
       "      <td>Siddhartha</td>\n",
       "      <td>Hermann Hesse</td>\n",
       "      <td>1951</td>\n",
       "      <td>New Directions Publishing Corporation</td>\n",
       "    </tr>\n",
       "    <tr>\n",
       "      <th>4192</th>\n",
       "      <td>0060263857</td>\n",
       "      <td>Charlotte's Web</td>\n",
       "      <td>E. B. White</td>\n",
       "      <td>1952</td>\n",
       "      <td>Harpercollins Juvenile Books</td>\n",
       "    </tr>\n",
       "    <tr>\n",
       "      <th>1092</th>\n",
       "      <td>0064400026</td>\n",
       "      <td>Little House on the Prairie</td>\n",
       "      <td>Laura Ingalls Wilder</td>\n",
       "      <td>1953</td>\n",
       "      <td>HarperTrophy</td>\n",
       "    </tr>\n",
       "    <tr>\n",
       "      <th>2045</th>\n",
       "      <td>0395083567</td>\n",
       "      <td>My Antonia</td>\n",
       "      <td>Willa Sibert Cather</td>\n",
       "      <td>1954</td>\n",
       "      <td>Houghton Mifflin</td>\n",
       "    </tr>\n",
       "    <tr>\n",
       "      <th>4872</th>\n",
       "      <td>0156838389</td>\n",
       "      <td>Sophocles, The Oedipus Cycle: Oedipus Rex, Oedipus at Colonus, Antigone</td>\n",
       "      <td>Dudley Fitts</td>\n",
       "      <td>1955</td>\n",
       "      <td>Harvest Books</td>\n",
       "    </tr>\n",
       "    <tr>\n",
       "      <th>3631</th>\n",
       "      <td>0872860175</td>\n",
       "      <td>Howl and Other Poems (Pocket Poets)</td>\n",
       "      <td>Allen Ginsberg</td>\n",
       "      <td>1956</td>\n",
       "      <td>City Lights Publishers</td>\n",
       "    </tr>\n",
       "    <tr>\n",
       "      <th>948</th>\n",
       "      <td>039480001X</td>\n",
       "      <td>The Cat in the Hat</td>\n",
       "      <td>Dr. Seuss</td>\n",
       "      <td>1957</td>\n",
       "      <td>Random House Books for Young Readers</td>\n",
       "    </tr>\n",
       "    <tr>\n",
       "      <th>3589</th>\n",
       "      <td>0394800028</td>\n",
       "      <td>The Cat in the Hat Comes Back (I Can Read It All by Myself Beginner Books)</td>\n",
       "      <td>Dr. Seuss</td>\n",
       "      <td>1958</td>\n",
       "      <td>Random House Books for Young Readers</td>\n",
       "    </tr>\n",
       "    <tr>\n",
       "      <th>119</th>\n",
       "      <td>0399501487</td>\n",
       "      <td>Lord of the Flies</td>\n",
       "      <td>William Gerald Golding</td>\n",
       "      <td>1959</td>\n",
       "      <td>Perigee Trade</td>\n",
       "    </tr>\n",
       "    <tr>\n",
       "      <th>1812</th>\n",
       "      <td>0394800168</td>\n",
       "      <td>Green Eggs and Ham (I Can Read It All by Myself Beginner Books)</td>\n",
       "      <td>Dr. Seuss</td>\n",
       "      <td>1960</td>\n",
       "      <td>Random House Books for Young Readers</td>\n",
       "    </tr>\n",
       "    <tr>\n",
       "      <th>3609</th>\n",
       "      <td>0394800206</td>\n",
       "      <td>Go, Dog, Go (I Can Read It All by Myself Beginner Books)</td>\n",
       "      <td>Philip D. Eastman</td>\n",
       "      <td>1961</td>\n",
       "      <td>Random House Children's Books</td>\n",
       "    </tr>\n",
       "    <tr>\n",
       "      <th>7579</th>\n",
       "      <td>0140441212</td>\n",
       "      <td>Bhagavad Gita (Penguin Classics)</td>\n",
       "      <td>Juan Mascaro</td>\n",
       "      <td>1962</td>\n",
       "      <td>Penguin Books</td>\n",
       "    </tr>\n",
       "    <tr>\n",
       "      <th>2238</th>\n",
       "      <td>039480029X</td>\n",
       "      <td>Hop on Pop (I Can Read It All by Myself Beginner Books)</td>\n",
       "      <td>Dr. Seuss</td>\n",
       "      <td>1963</td>\n",
       "      <td>Random House Books for Young Readers</td>\n",
       "    </tr>\n",
       "    <tr>\n",
       "      <th>2050</th>\n",
       "      <td>0060256656</td>\n",
       "      <td>The Giving Tree</td>\n",
       "      <td>Shel Silverstein</td>\n",
       "      <td>1964</td>\n",
       "      <td>HarperCollins Publishers</td>\n",
       "    </tr>\n",
       "    <tr>\n",
       "      <th>773</th>\n",
       "      <td>0553210092</td>\n",
       "      <td>The Scarlet Letter</td>\n",
       "      <td>NATHANIEL HAWTHORNE</td>\n",
       "      <td>1965</td>\n",
       "      <td>Bantam</td>\n",
       "    </tr>\n",
       "    <tr>\n",
       "      <th>2529</th>\n",
       "      <td>055314300X</td>\n",
       "      <td>Bourne Identity</td>\n",
       "      <td>Robert Ludlum</td>\n",
       "      <td>1966</td>\n",
       "      <td>Bantam Doubleday Dell</td>\n",
       "    </tr>\n",
       "    <tr>\n",
       "      <th>5749</th>\n",
       "      <td>0140430229</td>\n",
       "      <td>Gulliver's Travels (Penguin Classics)</td>\n",
       "      <td>Jonathan Swift</td>\n",
       "      <td>1967</td>\n",
       "      <td>Penguin Books</td>\n",
       "    </tr>\n",
       "    <tr>\n",
       "      <th>494</th>\n",
       "      <td>0156528207</td>\n",
       "      <td>The Little Prince</td>\n",
       "      <td>Antoine de Saint-ExupÃ©ry</td>\n",
       "      <td>1968</td>\n",
       "      <td>Harcourt</td>\n",
       "    </tr>\n",
       "    <tr>\n",
       "      <th>4529</th>\n",
       "      <td>0440435749</td>\n",
       "      <td>The High King (Chronicles of Prydain (Paperback))</td>\n",
       "      <td>LLOYD ALEXANDER</td>\n",
       "      <td>1969</td>\n",
       "      <td>Yearling</td>\n",
       "    </tr>\n",
       "    <tr>\n",
       "      <th>1177</th>\n",
       "      <td>0020442203</td>\n",
       "      <td>Lion, the Witch and the Wardrobe</td>\n",
       "      <td>C.S. Lewis</td>\n",
       "      <td>1970</td>\n",
       "      <td>MacMillan Publishing Company.</td>\n",
       "    </tr>\n",
       "    <tr>\n",
       "      <th>738</th>\n",
       "      <td>0440439884</td>\n",
       "      <td>Island of the Blue Dolphins</td>\n",
       "      <td>SCOTT O'DELL</td>\n",
       "      <td>1971</td>\n",
       "      <td>Random House Children's Books</td>\n",
       "    </tr>\n",
       "    <tr>\n",
       "      <th>1082</th>\n",
       "      <td>0553213695</td>\n",
       "      <td>The Metamorphosis (Bantam Classics)</td>\n",
       "      <td>FRANZ KAFKA</td>\n",
       "      <td>1972</td>\n",
       "      <td>Bantam</td>\n",
       "    </tr>\n",
       "    <tr>\n",
       "      <th>1941</th>\n",
       "      <td>0394404289</td>\n",
       "      <td>The Prophet</td>\n",
       "      <td>Kahlil Gibran</td>\n",
       "      <td>1973</td>\n",
       "      <td>Alfred A. Knopf</td>\n",
       "    </tr>\n",
       "    <tr>\n",
       "      <th>306</th>\n",
       "      <td>0064400557</td>\n",
       "      <td>Charlotte's Web (Trophy Newbery)</td>\n",
       "      <td>E. B. White</td>\n",
       "      <td>1974</td>\n",
       "      <td>HarperTrophy</td>\n",
       "    </tr>\n",
       "    <tr>\n",
       "      <th>1769</th>\n",
       "      <td>038000321X</td>\n",
       "      <td>Alive : The Story of the Andes Survivors (Avon Nonfiction)</td>\n",
       "      <td>Piers Paul Read</td>\n",
       "      <td>1975</td>\n",
       "      <td>Avon</td>\n",
       "    </tr>\n",
       "    <tr>\n",
       "      <th>137</th>\n",
       "      <td>0380002930</td>\n",
       "      <td>Watership Down</td>\n",
       "      <td>Richard Adams</td>\n",
       "      <td>1976</td>\n",
       "      <td>Avon</td>\n",
       "    </tr>\n",
       "    <tr>\n",
       "      <th>2465</th>\n",
       "      <td>0553258524</td>\n",
       "      <td>Dragonsong (Harper Hall Trilogy)</td>\n",
       "      <td>Anne McCaffrey</td>\n",
       "      <td>1977</td>\n",
       "      <td>Bantam</td>\n",
       "    </tr>\n",
       "    <tr>\n",
       "      <th>266</th>\n",
       "      <td>0380018179</td>\n",
       "      <td>The Thorn Birds</td>\n",
       "      <td>Colleen McCullough</td>\n",
       "      <td>1978</td>\n",
       "      <td>Avon</td>\n",
       "    </tr>\n",
       "    <tr>\n",
       "      <th>1813</th>\n",
       "      <td>0440901588</td>\n",
       "      <td>A Swiftly Tilting Planet</td>\n",
       "      <td>Madeleine L'Engle</td>\n",
       "      <td>1979</td>\n",
       "      <td>Laure Leaf</td>\n",
       "    </tr>\n",
       "    <tr>\n",
       "      <th>538</th>\n",
       "      <td>0671250671</td>\n",
       "      <td>ROAD LESS TRAVELED : A New Psychology of Love, Traditional Values, and Spritual Growth (Touchstone Books (Paperback))</td>\n",
       "      <td>M. Scott Peck</td>\n",
       "      <td>1980</td>\n",
       "      <td>Touchstone</td>\n",
       "    </tr>\n",
       "    <tr>\n",
       "      <th>470</th>\n",
       "      <td>0553208845</td>\n",
       "      <td>Siddhartha</td>\n",
       "      <td>Hermann Hesse</td>\n",
       "      <td>1981</td>\n",
       "      <td>Bantam Classics</td>\n",
       "    </tr>\n",
       "    <tr>\n",
       "      <th>173</th>\n",
       "      <td>0553272535</td>\n",
       "      <td>Night</td>\n",
       "      <td>Elie Wiesel</td>\n",
       "      <td>1982</td>\n",
       "      <td>Bantam Books</td>\n",
       "    </tr>\n",
       "    <tr>\n",
       "      <th>132</th>\n",
       "      <td>0140067477</td>\n",
       "      <td>The Tao of Pooh</td>\n",
       "      <td>Benjamin Hoff</td>\n",
       "      <td>1983</td>\n",
       "      <td>Penguin Books</td>\n",
       "    </tr>\n",
       "    <tr>\n",
       "      <th>189</th>\n",
       "      <td>0553250426</td>\n",
       "      <td>The Clan of the Cave Bear (Earth's Children (Paperback))</td>\n",
       "      <td>Jean M. Auel</td>\n",
       "      <td>1984</td>\n",
       "      <td>Bantam Books</td>\n",
       "    </tr>\n",
       "    <tr>\n",
       "      <th>382</th>\n",
       "      <td>0671617028</td>\n",
       "      <td>The Color Purple</td>\n",
       "      <td>Alice Walker</td>\n",
       "      <td>1985</td>\n",
       "      <td>Pocket Books</td>\n",
       "    </tr>\n",
       "    <tr>\n",
       "      <th>48</th>\n",
       "      <td>0345339681</td>\n",
       "      <td>The Hobbit : The Enchanting Prelude to The Lord of the Rings</td>\n",
       "      <td>J.R.R. TOLKIEN</td>\n",
       "      <td>1986</td>\n",
       "      <td>Del Rey</td>\n",
       "    </tr>\n",
       "    <tr>\n",
       "      <th>46</th>\n",
       "      <td>0345342968</td>\n",
       "      <td>Fahrenheit 451</td>\n",
       "      <td>RAY BRADBURY</td>\n",
       "      <td>1987</td>\n",
       "      <td>Del Rey</td>\n",
       "    </tr>\n",
       "    <tr>\n",
       "      <th>22</th>\n",
       "      <td>0446310786</td>\n",
       "      <td>To Kill a Mockingbird</td>\n",
       "      <td>Harper Lee</td>\n",
       "      <td>1988</td>\n",
       "      <td>Little Brown &amp;amp; Company</td>\n",
       "    </tr>\n",
       "    <tr>\n",
       "      <th>105</th>\n",
       "      <td>0060915544</td>\n",
       "      <td>The Bean Trees</td>\n",
       "      <td>Barbara Kingsolver</td>\n",
       "      <td>1989</td>\n",
       "      <td>Perennial</td>\n",
       "    </tr>\n",
       "    <tr>\n",
       "      <th>37</th>\n",
       "      <td>0345361792</td>\n",
       "      <td>A Prayer for Owen Meany</td>\n",
       "      <td>John Irving</td>\n",
       "      <td>1990</td>\n",
       "      <td>Ballantine Books</td>\n",
       "    </tr>\n",
       "    <tr>\n",
       "      <th>13</th>\n",
       "      <td>0316769487</td>\n",
       "      <td>The Catcher in the Rye</td>\n",
       "      <td>J.D. Salinger</td>\n",
       "      <td>1991</td>\n",
       "      <td>Little, Brown</td>\n",
       "    </tr>\n",
       "    <tr>\n",
       "      <th>24</th>\n",
       "      <td>044021145X</td>\n",
       "      <td>The Firm</td>\n",
       "      <td>John Grisham</td>\n",
       "      <td>1992</td>\n",
       "      <td>Bantam Dell Publishing Group</td>\n",
       "    </tr>\n",
       "    <tr>\n",
       "      <th>16</th>\n",
       "      <td>0345337662</td>\n",
       "      <td>Interview with the Vampire</td>\n",
       "      <td>Anne Rice</td>\n",
       "      <td>1993</td>\n",
       "      <td>Ballantine Books</td>\n",
       "    </tr>\n",
       "    <tr>\n",
       "      <th>32</th>\n",
       "      <td>0804106304</td>\n",
       "      <td>The Joy Luck Club</td>\n",
       "      <td>Amy Tan</td>\n",
       "      <td>1994</td>\n",
       "      <td>Prentice Hall (K-12)</td>\n",
       "    </tr>\n",
       "    <tr>\n",
       "      <th>12</th>\n",
       "      <td>067976402X</td>\n",
       "      <td>Snow Falling on Cedars</td>\n",
       "      <td>David Guterson</td>\n",
       "      <td>1995</td>\n",
       "      <td>Vintage Books USA</td>\n",
       "    </tr>\n",
       "    <tr>\n",
       "      <th>26</th>\n",
       "      <td>0671003755</td>\n",
       "      <td>She's Come Undone (Oprah's Book Club (Paperback))</td>\n",
       "      <td>Wally Lamb</td>\n",
       "      <td>1996</td>\n",
       "      <td>Washington Square Press</td>\n",
       "    </tr>\n",
       "    <tr>\n",
       "      <th>4</th>\n",
       "      <td>0060928336</td>\n",
       "      <td>Divine Secrets of the Ya-Ya Sisterhood: A Novel</td>\n",
       "      <td>Rebecca Wells</td>\n",
       "      <td>1997</td>\n",
       "      <td>Perennial</td>\n",
       "    </tr>\n",
       "    <tr>\n",
       "      <th>3</th>\n",
       "      <td>0312195516</td>\n",
       "      <td>The Red Tent (Bestselling Backlist)</td>\n",
       "      <td>Anita Diamant</td>\n",
       "      <td>1998</td>\n",
       "      <td>Picador USA</td>\n",
       "    </tr>\n",
       "    <tr>\n",
       "      <th>5</th>\n",
       "      <td>059035342X</td>\n",
       "      <td>Harry Potter and the Sorcerer's Stone (Harry Potter (Paperback))</td>\n",
       "      <td>J. K. Rowling</td>\n",
       "      <td>1999</td>\n",
       "      <td>Arthur A. Levine Books</td>\n",
       "    </tr>\n",
       "    <tr>\n",
       "      <th>17</th>\n",
       "      <td>0375727345</td>\n",
       "      <td>House of Sand and Fog</td>\n",
       "      <td>Andre Dubus III</td>\n",
       "      <td>2000</td>\n",
       "      <td>Vintage Books</td>\n",
       "    </tr>\n",
       "    <tr>\n",
       "      <th>8</th>\n",
       "      <td>044023722X</td>\n",
       "      <td>A Painted House</td>\n",
       "      <td>John Grisham</td>\n",
       "      <td>2001</td>\n",
       "      <td>Dell Publishing Company</td>\n",
       "    </tr>\n",
       "    <tr>\n",
       "      <th>0</th>\n",
       "      <td>0316666343</td>\n",
       "      <td>The Lovely Bones: A Novel</td>\n",
       "      <td>Alice Sebold</td>\n",
       "      <td>2002</td>\n",
       "      <td>Little, Brown</td>\n",
       "    </tr>\n",
       "    <tr>\n",
       "      <th>2</th>\n",
       "      <td>0385504209</td>\n",
       "      <td>The Da Vinci Code</td>\n",
       "      <td>Dan Brown</td>\n",
       "      <td>2003</td>\n",
       "      <td>Doubleday</td>\n",
       "    </tr>\n",
       "    <tr>\n",
       "      <th>1</th>\n",
       "      <td>0971880107</td>\n",
       "      <td>Wild Animus</td>\n",
       "      <td>Rich Shapero</td>\n",
       "      <td>2004</td>\n",
       "      <td>Too Far</td>\n",
       "    </tr>\n",
       "    <tr>\n",
       "      <th>2758</th>\n",
       "      <td>1881273156</td>\n",
       "      <td>The Five Love Languages: Five Love Languages</td>\n",
       "      <td>Gary Chapman</td>\n",
       "      <td>2005</td>\n",
       "      <td>Moody Publishers</td>\n",
       "    </tr>\n",
       "    <tr>\n",
       "      <th>69957</th>\n",
       "      <td>1903436346</td>\n",
       "      <td>The Winter's Tale - Arden Shakespeare : Third Series - Hardback (Arden Shakespeare Third Series)</td>\n",
       "      <td>John Pitcher</td>\n",
       "      <td>2006</td>\n",
       "      <td>Arden</td>\n",
       "    </tr>\n",
       "    <tr>\n",
       "      <th>134017</th>\n",
       "      <td>0743457226</td>\n",
       "      <td>Deep Waters</td>\n",
       "      <td>Jayne Ann Krentz</td>\n",
       "      <td>2010</td>\n",
       "      <td>Pocket</td>\n",
       "    </tr>\n",
       "    <tr>\n",
       "      <th>105688</th>\n",
       "      <td>0394172116</td>\n",
       "      <td>Monkey (An Evergreen Book, E-112)</td>\n",
       "      <td>Cheng-En Wu</td>\n",
       "      <td>2011</td>\n",
       "      <td>Grove Press</td>\n",
       "    </tr>\n",
       "    <tr>\n",
       "      <th>46102</th>\n",
       "      <td>068107468X</td>\n",
       "      <td>Edgar Allen Poe Collected Poems</td>\n",
       "      <td>Edgar Allan Poe</td>\n",
       "      <td>2020</td>\n",
       "      <td>Bausch &amp;amp; Lombard</td>\n",
       "    </tr>\n",
       "    <tr>\n",
       "      <th>32907</th>\n",
       "      <td>0590085417</td>\n",
       "      <td>Heidi</td>\n",
       "      <td>Johanna Spyri</td>\n",
       "      <td>2021</td>\n",
       "      <td>Scholastic</td>\n",
       "    </tr>\n",
       "  </tbody>\n",
       "</table>\n",
       "</div>"
      ],
      "text/plain": [
       "              ISBN  \\\n",
       "73895   964442011X   \n",
       "73896   9643112136   \n",
       "130309  0781228956   \n",
       "81469   1551103982   \n",
       "125519  0671397214   \n",
       "48634   0373226888   \n",
       "104339  038528120X   \n",
       "103193  0404089119   \n",
       "24664   0911662251   \n",
       "53807   0892760508   \n",
       "5085    0684717603   \n",
       "27322   0440745454   \n",
       "137809  0486600815   \n",
       "42688   0023381205   \n",
       "20533   0684718081   \n",
       "10313   0448089033   \n",
       "73755   9997520858   \n",
       "6239    0684717972   \n",
       "1651    0448095017   \n",
       "129651  074752694X   \n",
       "11037   0448095076   \n",
       "50997   0804617279   \n",
       "79781   0961505109   \n",
       "52332   0882436600   \n",
       "14213   068483068X   \n",
       "23018   0802812201   \n",
       "10723   0395071224   \n",
       "73759   999750805X   \n",
       "35798   044808919X   \n",
       "33795   0448089203   \n",
       "9011    0060901012   \n",
       "23888   0152465030   \n",
       "101841  0394906012   \n",
       "12322   0060263954   \n",
       "7485    0448060043   \n",
       "18684   0448095246   \n",
       "26377   0875160476   \n",
       "18650   0448095262   \n",
       "9313    0553213601   \n",
       "4824    081120068X   \n",
       "4192    0060263857   \n",
       "1092    0064400026   \n",
       "2045    0395083567   \n",
       "4872    0156838389   \n",
       "3631    0872860175   \n",
       "948     039480001X   \n",
       "3589    0394800028   \n",
       "119     0399501487   \n",
       "1812    0394800168   \n",
       "3609    0394800206   \n",
       "7579    0140441212   \n",
       "2238    039480029X   \n",
       "2050    0060256656   \n",
       "773     0553210092   \n",
       "2529    055314300X   \n",
       "5749    0140430229   \n",
       "494     0156528207   \n",
       "4529    0440435749   \n",
       "1177    0020442203   \n",
       "738     0440439884   \n",
       "1082    0553213695   \n",
       "1941    0394404289   \n",
       "306     0064400557   \n",
       "1769    038000321X   \n",
       "137     0380002930   \n",
       "2465    0553258524   \n",
       "266     0380018179   \n",
       "1813    0440901588   \n",
       "538     0671250671   \n",
       "470     0553208845   \n",
       "173     0553272535   \n",
       "132     0140067477   \n",
       "189     0553250426   \n",
       "382     0671617028   \n",
       "48      0345339681   \n",
       "46      0345342968   \n",
       "22      0446310786   \n",
       "105     0060915544   \n",
       "37      0345361792   \n",
       "13      0316769487   \n",
       "24      044021145X   \n",
       "16      0345337662   \n",
       "32      0804106304   \n",
       "12      067976402X   \n",
       "26      0671003755   \n",
       "4       0060928336   \n",
       "3       0312195516   \n",
       "5       059035342X   \n",
       "17      0375727345   \n",
       "8       044023722X   \n",
       "0       0316666343   \n",
       "2       0385504209   \n",
       "1       0971880107   \n",
       "2758    1881273156   \n",
       "69957   1903436346   \n",
       "134017  0743457226   \n",
       "105688  0394172116   \n",
       "46102   068107468X   \n",
       "32907   0590085417   \n",
       "\n",
       "                                                                                                                   Book-Title  \\\n",
       "73895   Tasht-i khun                                                                                                            \n",
       "73896   Dalan-i bihisht (Dastan-i Irani)                                                                                        \n",
       "130309  Complete Works 10 Volumes [2,6,7,8,9] (Notable American Authors)                                                        \n",
       "81469   The Cycling Adventures of Coconut Head: A North American Odyssey                                                        \n",
       "125519  JOY OF MUSIC     P                                                                                                      \n",
       "48634   Tommy's Mom                                                                                                             \n",
       "104339  CATCH 22                                                                                                                \n",
       "103193  Charlotte Bronte and Her Sisters                                                                                        \n",
       "24664   Kybalion: A Study of the Hermetic Philosophy of Ancient Egypt and Greece                                                \n",
       "53807   New Birth                                                                                                               \n",
       "5085    The GREAT GATSBY (Scribner Classic)                                                                                     \n",
       "27322   HOW TO EAT FRIED WORMS                                                                                                  \n",
       "137809  Principle of Relativity (Dover Books on Physics)                                                                        \n",
       "42688   Great Gatsby, The                                                                                                       \n",
       "20533   The Sun Also Rises                                                                                                      \n",
       "10313   The Secret of the Old Mill (The Hardy Boys Mystery Stories, Book 3)                                                     \n",
       "73755   Beau Ideal                                                                                                              \n",
       "6239    Farewell to Arms                                                                                                        \n",
       "1651    The Secret of the Old Clock (Nancy Drew Mystery Stories, No 1)                                                          \n",
       "129651  Bloomsbury Good Reading Guide                                                                                           \n",
       "11037   The Clue in the Diary (Nancy Drew Mystery Stories Number 7)                                                             \n",
       "50997   Legends of Angria,                                                                                                      \n",
       "79781   Narrow Land: Folk Chronicles of Old Cape Cod (Chatham Historical Society)                                               \n",
       "52332   Through the Bible Book by Book: Genesis to Esthe/Part 1 (Through the Bible Book by Book)                                \n",
       "14213   Gone With the Wind                                                                                                      \n",
       "23018   Descent into Hell                                                                                                       \n",
       "10723   The Hobbit                                                                                                              \n",
       "73759   The Happy Highwayman                                                                                                    \n",
       "35798   Disappearing Floor (Hardy Boys Mystery Stories)                                                                         \n",
       "33795   Mystery of the Flying Express, (Hardy Boys Mystery Stories)                                                             \n",
       "9011    Brave New World &amp; Brave New World Revisited                                                                         \n",
       "23888   The Little Prince                                                                                                       \n",
       "101841  The Black Stallion                                                                                                      \n",
       "12322   Stuart Little 60th Anniversary Edition                                                                                  \n",
       "7485    Alice in Wonderland and Through the Looking Glass (Illustrated Junior Library)                                          \n",
       "18684   The Clue in the Old Album (Nancy Drew Mystery Stories, No 24)                                                           \n",
       "26377   Secret Science Behind Miracles                                                                                          \n",
       "18650   Clue of the Leaning Chimney (Nancy Drew (Hardcover))                                                                    \n",
       "9313    Cyrano De Bergerac (Bantam Classics)                                                                                    \n",
       "4824    Siddhartha                                                                                                              \n",
       "4192    Charlotte's Web                                                                                                         \n",
       "1092    Little House on the Prairie                                                                                             \n",
       "2045    My Antonia                                                                                                              \n",
       "4872    Sophocles, The Oedipus Cycle: Oedipus Rex, Oedipus at Colonus, Antigone                                                 \n",
       "3631    Howl and Other Poems (Pocket Poets)                                                                                     \n",
       "948     The Cat in the Hat                                                                                                      \n",
       "3589    The Cat in the Hat Comes Back (I Can Read It All by Myself Beginner Books)                                              \n",
       "119     Lord of the Flies                                                                                                       \n",
       "1812    Green Eggs and Ham (I Can Read It All by Myself Beginner Books)                                                         \n",
       "3609    Go, Dog, Go (I Can Read It All by Myself Beginner Books)                                                                \n",
       "7579    Bhagavad Gita (Penguin Classics)                                                                                        \n",
       "2238    Hop on Pop (I Can Read It All by Myself Beginner Books)                                                                 \n",
       "2050    The Giving Tree                                                                                                         \n",
       "773     The Scarlet Letter                                                                                                      \n",
       "2529    Bourne Identity                                                                                                         \n",
       "5749    Gulliver's Travels (Penguin Classics)                                                                                   \n",
       "494     The Little Prince                                                                                                       \n",
       "4529    The High King (Chronicles of Prydain (Paperback))                                                                       \n",
       "1177    Lion, the Witch and the Wardrobe                                                                                        \n",
       "738     Island of the Blue Dolphins                                                                                             \n",
       "1082    The Metamorphosis (Bantam Classics)                                                                                     \n",
       "1941    The Prophet                                                                                                             \n",
       "306     Charlotte's Web (Trophy Newbery)                                                                                        \n",
       "1769    Alive : The Story of the Andes Survivors (Avon Nonfiction)                                                              \n",
       "137     Watership Down                                                                                                          \n",
       "2465    Dragonsong (Harper Hall Trilogy)                                                                                        \n",
       "266     The Thorn Birds                                                                                                         \n",
       "1813    A Swiftly Tilting Planet                                                                                                \n",
       "538     ROAD LESS TRAVELED : A New Psychology of Love, Traditional Values, and Spritual Growth (Touchstone Books (Paperback))   \n",
       "470     Siddhartha                                                                                                              \n",
       "173     Night                                                                                                                   \n",
       "132     The Tao of Pooh                                                                                                         \n",
       "189     The Clan of the Cave Bear (Earth's Children (Paperback))                                                                \n",
       "382     The Color Purple                                                                                                        \n",
       "48      The Hobbit : The Enchanting Prelude to The Lord of the Rings                                                            \n",
       "46      Fahrenheit 451                                                                                                          \n",
       "22      To Kill a Mockingbird                                                                                                   \n",
       "105     The Bean Trees                                                                                                          \n",
       "37      A Prayer for Owen Meany                                                                                                 \n",
       "13      The Catcher in the Rye                                                                                                  \n",
       "24      The Firm                                                                                                                \n",
       "16      Interview with the Vampire                                                                                              \n",
       "32      The Joy Luck Club                                                                                                       \n",
       "12      Snow Falling on Cedars                                                                                                  \n",
       "26      She's Come Undone (Oprah's Book Club (Paperback))                                                                       \n",
       "4       Divine Secrets of the Ya-Ya Sisterhood: A Novel                                                                         \n",
       "3       The Red Tent (Bestselling Backlist)                                                                                     \n",
       "5       Harry Potter and the Sorcerer's Stone (Harry Potter (Paperback))                                                        \n",
       "17      House of Sand and Fog                                                                                                   \n",
       "8       A Painted House                                                                                                         \n",
       "0       The Lovely Bones: A Novel                                                                                               \n",
       "2       The Da Vinci Code                                                                                                       \n",
       "1       Wild Animus                                                                                                             \n",
       "2758    The Five Love Languages: Five Love Languages                                                                            \n",
       "69957   The Winter's Tale - Arden Shakespeare : Third Series - Hardback (Arden Shakespeare Third Series)                        \n",
       "134017  Deep Waters                                                                                                             \n",
       "105688  Monkey (An Evergreen Book, E-112)                                                                                       \n",
       "46102   Edgar Allen Poe Collected Poems                                                                                         \n",
       "32907   Heidi                                                                                                                   \n",
       "\n",
       "                      Book-Author  Year-Of-Publication  \\\n",
       "73895   IsmaÂ°il Fasih             1376                  \n",
       "73896   Nazi Safavi                1378                  \n",
       "130309  Benjamin Franklin          1806                  \n",
       "81469   Ted Schredd                1900                  \n",
       "125519  Leonard Bernstein          1901                  \n",
       "48634   Linda O. Johnston          1902                  \n",
       "104339  JOSEPH HELLER              1904                  \n",
       "103193  Clement K. Shorter         1906                  \n",
       "24664   Three Initiates            1908                  \n",
       "53807   Kenneth Hagin              1911                  \n",
       "5085    F. Scott Fritzgerald       1920                  \n",
       "27322   THOMAS ROCKWELL            1923                  \n",
       "137809  Albert Einstein            1924                  \n",
       "42688   F. Scott Fitzgerald        1925                  \n",
       "20533   Ernest Hemingway           1926                  \n",
       "10313   Franklin W. Dixon          1927                  \n",
       "73755   Percival C. Wren           1928                  \n",
       "6239    Ernest Hemingway           1929                  \n",
       "1651    Carolyn Keene              1930                  \n",
       "129651  Kenneth McLeish            1931                  \n",
       "11037   Carolyn Keene              1932                  \n",
       "50997   Charlotte Bronte           1933                  \n",
       "79781   Elizabeth Reynard          1934                  \n",
       "52332   Myer Pearlman              1935                  \n",
       "14213   Margaret Mitchell          1936                  \n",
       "23018   Charles Williams           1937                  \n",
       "10723   J. R. R. Tolkien           1938                  \n",
       "73759   Leslie Charteris           1939                  \n",
       "35798   Franklin W. Dixon          1940                  \n",
       "33795   Franklin W. Dixon          1941                  \n",
       "9011    Aldous Huxley              1942                  \n",
       "23888   Antoine De Saint-Exupery   1943                  \n",
       "101841  WALTER FARLEY              1944                  \n",
       "12322   E. B. White                1945                  \n",
       "7485    Charles Lutwidge Dodgson   1946                  \n",
       "18684   Carolyn Keene              1947                  \n",
       "26377   Max F. Long                1948                  \n",
       "18650   Carolyn Keene              1949                  \n",
       "9313    EDMOND ROSTAND             1950                  \n",
       "4824    Hermann Hesse              1951                  \n",
       "4192    E. B. White                1952                  \n",
       "1092    Laura Ingalls Wilder       1953                  \n",
       "2045    Willa Sibert Cather        1954                  \n",
       "4872    Dudley Fitts               1955                  \n",
       "3631    Allen Ginsberg             1956                  \n",
       "948     Dr. Seuss                  1957                  \n",
       "3589    Dr. Seuss                  1958                  \n",
       "119     William Gerald Golding     1959                  \n",
       "1812    Dr. Seuss                  1960                  \n",
       "3609    Philip D. Eastman          1961                  \n",
       "7579    Juan Mascaro               1962                  \n",
       "2238    Dr. Seuss                  1963                  \n",
       "2050    Shel Silverstein           1964                  \n",
       "773     NATHANIEL HAWTHORNE        1965                  \n",
       "2529    Robert Ludlum              1966                  \n",
       "5749    Jonathan Swift             1967                  \n",
       "494     Antoine de Saint-ExupÃ©ry  1968                  \n",
       "4529    LLOYD ALEXANDER            1969                  \n",
       "1177    C.S. Lewis                 1970                  \n",
       "738     SCOTT O'DELL               1971                  \n",
       "1082    FRANZ KAFKA                1972                  \n",
       "1941    Kahlil Gibran              1973                  \n",
       "306     E. B. White                1974                  \n",
       "1769    Piers Paul Read            1975                  \n",
       "137     Richard Adams              1976                  \n",
       "2465    Anne McCaffrey             1977                  \n",
       "266     Colleen McCullough         1978                  \n",
       "1813    Madeleine L'Engle          1979                  \n",
       "538     M. Scott Peck              1980                  \n",
       "470     Hermann Hesse              1981                  \n",
       "173     Elie Wiesel                1982                  \n",
       "132     Benjamin Hoff              1983                  \n",
       "189     Jean M. Auel               1984                  \n",
       "382     Alice Walker               1985                  \n",
       "48      J.R.R. TOLKIEN             1986                  \n",
       "46      RAY BRADBURY               1987                  \n",
       "22      Harper Lee                 1988                  \n",
       "105     Barbara Kingsolver         1989                  \n",
       "37      John Irving                1990                  \n",
       "13      J.D. Salinger              1991                  \n",
       "24      John Grisham               1992                  \n",
       "16      Anne Rice                  1993                  \n",
       "32      Amy Tan                    1994                  \n",
       "12      David Guterson             1995                  \n",
       "26      Wally Lamb                 1996                  \n",
       "4       Rebecca Wells              1997                  \n",
       "3       Anita Diamant              1998                  \n",
       "5       J. K. Rowling              1999                  \n",
       "17      Andre Dubus III            2000                  \n",
       "8       John Grisham               2001                  \n",
       "0       Alice Sebold               2002                  \n",
       "2       Dan Brown                  2003                  \n",
       "1       Rich Shapero               2004                  \n",
       "2758    Gary Chapman               2005                  \n",
       "69957   John Pitcher               2006                  \n",
       "134017  Jayne Ann Krentz           2010                  \n",
       "105688  Cheng-En Wu                2011                  \n",
       "46102   Edgar Allan Poe            2020                  \n",
       "32907   Johanna Spyri              2021                  \n",
       "\n",
       "                                    Publisher  \n",
       "73895   Nashr-i Alburz                         \n",
       "73896   Intisharat-i Quqnus                    \n",
       "130309  Reprint Services Corp                  \n",
       "81469   Graphic Arts Center Pub Co             \n",
       "125519  Fireside                               \n",
       "48634   Harlequin                              \n",
       "104339  Delta                                  \n",
       "103193  Ams Pr                                 \n",
       "24664   Yoga Publication Society               \n",
       "53807   Faith Library Publications             \n",
       "5085    Scribner Paper Fiction                 \n",
       "27322   Yearling                               \n",
       "137809  Dover Publications                     \n",
       "42688   Prentice Hall                          \n",
       "20533   Scribner Book Company                  \n",
       "10313   Grosset &amp; Dunlap                   \n",
       "73755   Stokes Pub Co                          \n",
       "6239    Charles Scribner's Sons                \n",
       "1651    Grosset &amp; Dunlap                   \n",
       "129651  Trafalgar Square Publishing            \n",
       "11037   Imagination Studio                     \n",
       "50997   Gateway/Associated Faculty Pr          \n",
       "79781   Parnassus Press                        \n",
       "52332   Gospel Publishing House                \n",
       "14213   Scribner                               \n",
       "23018   Wm. B. Eerdmans Publishing Company     \n",
       "10723   Houghton Mifflin Company               \n",
       "73759   Doubleday                              \n",
       "35798   Grosset &amp; Dunlap                   \n",
       "33795   Grosset &amp; Dunlap                   \n",
       "9011    Perennial                              \n",
       "23888   Harcourt                               \n",
       "101841  Random House Books for Young Readers   \n",
       "12322   HarperCollins                          \n",
       "7485    Grosset &amp; Dunlap                   \n",
       "18684   Grosset &amp; Dunlap                   \n",
       "26377   DeVorss &amp; Company                  \n",
       "18650   Grosset &amp; Dunlap                   \n",
       "9313    Bantam                                 \n",
       "4824    New Directions Publishing Corporation  \n",
       "4192    Harpercollins Juvenile Books           \n",
       "1092    HarperTrophy                           \n",
       "2045    Houghton Mifflin                       \n",
       "4872    Harvest Books                          \n",
       "3631    City Lights Publishers                 \n",
       "948     Random House Books for Young Readers   \n",
       "3589    Random House Books for Young Readers   \n",
       "119     Perigee Trade                          \n",
       "1812    Random House Books for Young Readers   \n",
       "3609    Random House Children's Books          \n",
       "7579    Penguin Books                          \n",
       "2238    Random House Books for Young Readers   \n",
       "2050    HarperCollins Publishers               \n",
       "773     Bantam                                 \n",
       "2529    Bantam Doubleday Dell                  \n",
       "5749    Penguin Books                          \n",
       "494     Harcourt                               \n",
       "4529    Yearling                               \n",
       "1177    MacMillan Publishing Company.          \n",
       "738     Random House Children's Books          \n",
       "1082    Bantam                                 \n",
       "1941    Alfred A. Knopf                        \n",
       "306     HarperTrophy                           \n",
       "1769    Avon                                   \n",
       "137     Avon                                   \n",
       "2465    Bantam                                 \n",
       "266     Avon                                   \n",
       "1813    Laure Leaf                             \n",
       "538     Touchstone                             \n",
       "470     Bantam Classics                        \n",
       "173     Bantam Books                           \n",
       "132     Penguin Books                          \n",
       "189     Bantam Books                           \n",
       "382     Pocket Books                           \n",
       "48      Del Rey                                \n",
       "46      Del Rey                                \n",
       "22      Little Brown &amp; Company             \n",
       "105     Perennial                              \n",
       "37      Ballantine Books                       \n",
       "13      Little, Brown                          \n",
       "24      Bantam Dell Publishing Group           \n",
       "16      Ballantine Books                       \n",
       "32      Prentice Hall (K-12)                   \n",
       "12      Vintage Books USA                      \n",
       "26      Washington Square Press                \n",
       "4       Perennial                              \n",
       "3       Picador USA                            \n",
       "5       Arthur A. Levine Books                 \n",
       "17      Vintage Books                          \n",
       "8       Dell Publishing Company                \n",
       "0       Little, Brown                          \n",
       "2       Doubleday                              \n",
       "1       Too Far                                \n",
       "2758    Moody Publishers                       \n",
       "69957   Arden                                  \n",
       "134017  Pocket                                 \n",
       "105688  Grove Press                            \n",
       "46102   Bausch &amp; Lombard                   \n",
       "32907   Scholastic                             "
      ]
     },
     "execution_count": 65,
     "metadata": {},
     "output_type": "execute_result"
    }
   ],
   "source": [
    "data = pd.DataFrame(dataset1.groupby('ISBN')['Book-Rating'].count()).sort_values('Book-Rating', ascending=False)\n",
    "data = pd.merge(data, books, on='ISBN')\n",
    "\n",
    "years = set()\n",
    "indices = []\n",
    "for ind, row in data.iterrows():\n",
    "    if row['Year-Of-Publication'] in years:\n",
    "        indices.append(ind)\n",
    "    else:\n",
    "        years.add(row['Year-Of-Publication'])\n",
    "\n",
    "data = data.drop(indices)\n",
    "data = data.drop('Book-Rating', axis = 1)\n",
    "data = data.sort_values('Year-Of-Publication')\n",
    "\n",
    "pd.set_option(\"display.max_rows\", None, \"display.max_columns\", None)\n",
    "data\n"
   ]
  },
  {
   "cell_type": "code",
   "execution_count": null,
   "id": "7c19a4d0",
   "metadata": {},
   "outputs": [],
   "source": []
  },
  {
   "cell_type": "code",
   "execution_count": null,
   "id": "2e282962",
   "metadata": {},
   "outputs": [],
   "source": []
  },
  {
   "cell_type": "code",
   "execution_count": null,
   "id": "ee0b99a3",
   "metadata": {},
   "outputs": [],
   "source": []
  },
  {
   "cell_type": "markdown",
   "id": "a6c7e936",
   "metadata": {},
   "source": [
    "6. Collaborative Filtering (User-Item Filtering)"
   ]
  },
  {
   "cell_type": "code",
   "execution_count": 66,
   "id": "af875c2c",
   "metadata": {},
   "outputs": [],
   "source": [
    "df = pd.DataFrame(dataset1['Book-Title'].value_counts())\n",
    "df['Total-Ratings'] = df['Book-Title']\n",
    "df['Book-Title'] = df.index\n",
    "df.reset_index(level=0, inplace=True)\n",
    "df = df.drop('index',axis=1)\n",
    "\n",
    "df = dataset1.merge(df, left_on = 'Book-Title', right_on = 'Book-Title', how = 'left')\n",
    "df = df.drop(['Year-Of-Publication','Publisher','Age','City','State','Country'], axis=1)\n",
    "\n",
    "popularity_threshold = 50\n",
    "popular_book = df[df['Total-Ratings'] >= popularity_threshold]\n",
    "popular_book = popular_book.reset_index(drop = True)"
   ]
  },
  {
   "cell_type": "code",
   "execution_count": null,
   "id": "8f6d8dca",
   "metadata": {},
   "outputs": [],
   "source": []
  },
  {
   "cell_type": "code",
   "execution_count": null,
   "id": "fcb6d8f9",
   "metadata": {},
   "outputs": [],
   "source": []
  },
  {
   "cell_type": "code",
   "execution_count": 67,
   "id": "c88e06d6",
   "metadata": {},
   "outputs": [],
   "source": [
    "testdf = pd.DataFrame()\n",
    "testdf['ISBN'] = popular_book['ISBN']\n",
    "testdf['Book-Rating'] = popular_book['Book-Rating']\n",
    "testdf['User-ID'] = popular_book['User-ID']\n",
    "testdf = testdf[['User-ID','Book-Rating']].groupby(testdf['ISBN'])"
   ]
  },
  {
   "cell_type": "code",
   "execution_count": 68,
   "id": "5dbebd57",
   "metadata": {},
   "outputs": [],
   "source": [
    "listOfDictonaries=[]\n",
    "indexMap = {}\n",
    "reverseIndexMap = {}\n",
    "ptr=0\n",
    "\n",
    "for groupKey in testdf.groups.keys():\n",
    "    tempDict={}\n",
    "    groupDF = testdf.get_group(groupKey)\n",
    "    for i in range(0,len(groupDF)):\n",
    "        tempDict[groupDF.iloc[i,0]] = groupDF.iloc[i,1]\n",
    "    indexMap[ptr]=groupKey\n",
    "    reverseIndexMap[groupKey] = ptr\n",
    "    ptr=ptr+1\n",
    "    listOfDictonaries.append(tempDict)\n",
    "\n",
    "dictVectorizer = DictVectorizer(sparse=True)\n",
    "vector = dictVectorizer.fit_transform(listOfDictonaries)\n",
    "pairwiseSimilarity = cosine_similarity(vector)"
   ]
  },
  {
   "cell_type": "code",
   "execution_count": 69,
   "id": "9792e35f",
   "metadata": {},
   "outputs": [],
   "source": [
    "def printBookDetails(bookID):\n",
    "    print(dataset1[dataset1['ISBN']==bookID]['Book-Title'].values[0])\n",
    "    \"\"\"\n",
    "    print(\"Title:\", dataset1[dataset1['ISBN']==bookID]['Book-Title'].values[0])\n",
    "    print(\"Author:\",dataset1[dataset['ISBN']==bookID]['Book-Author'].values[0])\n",
    "    #print(\"Printing Book-ID:\",bookID)\n",
    "    print(\"\\n\")\n",
    "    \"\"\"\n",
    "\n",
    "def getTopRecommandations(bookID):\n",
    "    collaborative = []\n",
    "    row = reverseIndexMap[bookID]\n",
    "    print(\"Input Book:\")\n",
    "    printBookDetails(bookID)\n",
    "    \n",
    "    print(\"\\nRECOMMENDATIONS:\\n\")\n",
    "    \n",
    "    mn = 0\n",
    "    similar = []\n",
    "    for i in np.argsort(pairwiseSimilarity[row])[:-2][::-1]:\n",
    "          if dataset1[dataset1['ISBN']==indexMap[i]]['Book-Title'].values[0] not in similar:\n",
    "                if mn>=number:\n",
    "                      break\n",
    "                mn+=1\n",
    "                similar.append(dataset1[dataset1['ISBN']==indexMap[i]]['Book-Title'].values[0])\n",
    "                printBookDetails(indexMap[i])\n",
    "                collaborative.append(dataset1[dataset1['ISBN']==indexMap[i]]['Book-Title'].values[0])\n",
    "    return collaborative"
   ]
  },
  {
   "cell_type": "code",
   "execution_count": 70,
   "id": "b56009a4",
   "metadata": {},
   "outputs": [
    {
     "name": "stdout",
     "output_type": "stream",
     "text": [
      "Input Book:\n",
      "Harry Potter and the Sorcerer's Stone (Harry Potter (Paperback))\n",
      "\n",
      "RECOMMENDATIONS:\n",
      "\n",
      "Harry Potter and the Prisoner of Azkaban (Book 3)\n",
      "Harry Potter and the Goblet of Fire (Book 4)\n",
      "Harry Potter and the Order of the Phoenix (Book 5)\n",
      "Harry Potter and the Chamber of Secrets (Book 2)\n",
      "Fried Green Tomatoes at the Whistle Stop Cafe\n"
     ]
    }
   ],
   "source": [
    "k = list(dataset1['Book-Title'])\n",
    "m = list(dataset1['ISBN'])\n",
    "\n",
    "collaborative = getTopRecommandations(m[k.index(bookName)])"
   ]
  },
  {
   "cell_type": "code",
   "execution_count": null,
   "id": "bbec4ae0",
   "metadata": {},
   "outputs": [],
   "source": []
  },
  {
   "cell_type": "code",
   "execution_count": null,
   "id": "f2feab7e",
   "metadata": {},
   "outputs": [],
   "source": []
  },
  {
   "cell_type": "markdown",
   "id": "d2fd54b5",
   "metadata": {},
   "source": [
    "7.Correlation Based"
   ]
  },
  {
   "cell_type": "code",
   "execution_count": 71,
   "id": "5bb63ccd",
   "metadata": {},
   "outputs": [],
   "source": [
    "popularity_threshold = 50\n",
    "\n",
    "user_count = dataset1['User-ID'].value_counts()\n",
    "data = dataset1[dataset1['User-ID'].isin(user_count[user_count >= popularity_threshold].index)]\n",
    "rat_count = data['Book-Rating'].value_counts()\n",
    "data = data[data['Book-Rating'].isin(rat_count[rat_count >= popularity_threshold].index)]\n",
    "\n",
    "matrix = data.pivot_table(index='User-ID', columns='ISBN', values = 'Book-Rating').fillna(0)"
   ]
  },
  {
   "cell_type": "code",
   "execution_count": 72,
   "id": "95ad9b94",
   "metadata": {},
   "outputs": [
    {
     "data": {
      "text/html": [
       "<div>\n",
       "<style scoped>\n",
       "    .dataframe tbody tr th:only-of-type {\n",
       "        vertical-align: middle;\n",
       "    }\n",
       "\n",
       "    .dataframe tbody tr th {\n",
       "        vertical-align: top;\n",
       "    }\n",
       "\n",
       "    .dataframe thead th {\n",
       "        text-align: right;\n",
       "    }\n",
       "</style>\n",
       "<table border=\"1\" class=\"dataframe\">\n",
       "  <thead>\n",
       "    <tr style=\"text-align: right;\">\n",
       "      <th></th>\n",
       "      <th>Book-Rating</th>\n",
       "      <th>ratingCount</th>\n",
       "    </tr>\n",
       "    <tr>\n",
       "      <th>ISBN</th>\n",
       "      <th></th>\n",
       "      <th></th>\n",
       "    </tr>\n",
       "  </thead>\n",
       "  <tbody>\n",
       "    <tr>\n",
       "      <th>0971880107</th>\n",
       "      <td>4.390706</td>\n",
       "      <td>2502</td>\n",
       "    </tr>\n",
       "    <tr>\n",
       "      <th>0316666343</th>\n",
       "      <td>8.185290</td>\n",
       "      <td>1295</td>\n",
       "    </tr>\n",
       "    <tr>\n",
       "      <th>0385504209</th>\n",
       "      <td>8.426230</td>\n",
       "      <td>884</td>\n",
       "    </tr>\n",
       "    <tr>\n",
       "      <th>0060928336</th>\n",
       "      <td>7.887500</td>\n",
       "      <td>732</td>\n",
       "    </tr>\n",
       "    <tr>\n",
       "      <th>0312195516</th>\n",
       "      <td>8.182768</td>\n",
       "      <td>723</td>\n",
       "    </tr>\n",
       "  </tbody>\n",
       "</table>\n",
       "</div>"
      ],
      "text/plain": [
       "            Book-Rating  ratingCount\n",
       "ISBN                                \n",
       "0971880107  4.390706     2502       \n",
       "0316666343  8.185290     1295       \n",
       "0385504209  8.426230     884        \n",
       "0060928336  7.887500     732        \n",
       "0312195516  8.182768     723        "
      ]
     },
     "execution_count": 72,
     "metadata": {},
     "output_type": "execute_result"
    }
   ],
   "source": [
    "average_rating = pd.DataFrame(dataset1.groupby('ISBN')['Book-Rating'].mean())\n",
    "average_rating['ratingCount'] = pd.DataFrame(ratings.groupby('ISBN')['Book-Rating'].count())\n",
    "average_rating.sort_values('ratingCount', ascending=False).head()"
   ]
  },
  {
   "cell_type": "code",
   "execution_count": null,
   "id": "dbc8cfce",
   "metadata": {},
   "outputs": [],
   "source": [
    "isbn = books.loc[books['Book-Title'] == bookName].reset_index(drop = True).iloc[0]['ISBN']\n",
    "row = matrix[isbn]\n",
    "correlation = pd.DataFrame(matrix.corrwith(row), columns = ['Pearson Corr'])\n",
    "corr = correlation.join(average_rating['ratingCount'])\n",
    "\n",
    "res = corr.sort_values('Pearson Corr', ascending=False).head(number+1)[1:].index\n",
    "corr_books = pd.merge(pd.DataFrame(res, columns = ['ISBN']), books, on='ISBN')\n",
    "print(\"\\n Recommended Books: \\n\")\n",
    "corr_books"
   ]
  },
  {
   "cell_type": "code",
   "execution_count": null,
   "id": "3cda06f8",
   "metadata": {},
   "outputs": [],
   "source": []
  },
  {
   "cell_type": "markdown",
   "id": "c96fff02",
   "metadata": {},
   "source": [
    "content based"
   ]
  },
  {
   "cell_type": "code",
   "execution_count": null,
   "id": "395ea514",
   "metadata": {},
   "outputs": [],
   "source": [
    "popularity_threshold = 80\n",
    "popular_book = df[df['Total-Ratings'] >= popularity_threshold]\n",
    "popular_book = popular_book.reset_index(drop = True)\n",
    "popular_book.shape"
   ]
  },
  {
   "cell_type": "code",
   "execution_count": null,
   "id": "45727de5",
   "metadata": {},
   "outputs": [],
   "source": [
    "tf = TfidfVectorizer(ngram_range=(1, 2), min_df = 1, stop_words='english')\n",
    "tfidf_matrix = tf.fit_transform(popular_book['Book-Title'])\n",
    "tfidf_matrix.shape"
   ]
  },
  {
   "cell_type": "code",
   "execution_count": null,
   "id": "4a629f58",
   "metadata": {},
   "outputs": [],
   "source": [
    "normalized_df = tfidf_matrix.astype(np.float32)\n",
    "cosine_similarities = cosine_similarity(normalized_df, normalized_df)\n",
    "cosine_similarities.shape"
   ]
  },
  {
   "cell_type": "code",
   "execution_count": null,
   "id": "b1db0895",
   "metadata": {},
   "outputs": [],
   "source": [
    "print(\"Recommended Books:\\n\")\n",
    "isbn = books.loc[books['Book-Title'] == bookName].reset_index(drop = True).iloc[0]['ISBN']\n",
    "content = []\n",
    "\n",
    "idx = popular_book.index[popular_book['ISBN'] == isbn].tolist()[0]\n",
    "similar_indices = cosine_similarities[idx].argsort()[::-1]\n",
    "similar_items = []\n",
    "for i in similar_indices:\n",
    "    if popular_book['Book-Title'][i] != bookName and popular_book['Book-Title'][i] not in similar_items and len(similar_items) < number:\n",
    "        similar_items.append(popular_book['Book-Title'][i])\n",
    "        content.append(popular_book['Book-Title'][i])\n",
    "\n",
    "for book in similar_items:\n",
    "    print(book)"
   ]
  },
  {
   "cell_type": "markdown",
   "id": "b76e58bb",
   "metadata": {},
   "source": [
    "Hybrid Approach (Content+Collaborative)"
   ]
  },
  {
   "cell_type": "code",
   "execution_count": null,
   "id": "4b68899e",
   "metadata": {},
   "outputs": [],
   "source": [
    "z = list()\n",
    "k = float(1/number)\n",
    "for x in range(number):\n",
    "      z.append(1-k*x)\n",
    "\n",
    "dictISBN = {}\n",
    "for x in collaborative:\n",
    "      dictISBN[x] = z[collaborative.index(x)]\n",
    "\n",
    "for x in content:\n",
    "    if x not in dictISBN:\n",
    "        dictISBN[x] = z[content.index(x)]\n",
    "    else:\n",
    "        dictISBN[x] += z[content.index(x)]\n",
    "\n",
    "ISBN = dict(sorted(dictISBN.items(),key=operator.itemgetter(1),reverse=True))\n",
    "w=0\n",
    "print(\"Input Book:\\n\")\n",
    "print(bookName)\n",
    "print(\"\\nRecommended Books:\\n\")\n",
    "for x in ISBN.keys():\n",
    "    if w>=number:\n",
    "        break\n",
    "    w+=1\n",
    "    print(x)"
   ]
  },
  {
   "cell_type": "code",
   "execution_count": null,
   "id": "e2b29623",
   "metadata": {},
   "outputs": [],
   "source": []
  }
 ],
 "metadata": {
  "kernelspec": {
   "display_name": "Python 3 (ipykernel)",
   "language": "python",
   "name": "python3"
  },
  "language_info": {
   "codemirror_mode": {
    "name": "ipython",
    "version": 3
   },
   "file_extension": ".py",
   "mimetype": "text/x-python",
   "name": "python",
   "nbconvert_exporter": "python",
   "pygments_lexer": "ipython3",
   "version": "3.9.12"
  }
 },
 "nbformat": 4,
 "nbformat_minor": 5
}
