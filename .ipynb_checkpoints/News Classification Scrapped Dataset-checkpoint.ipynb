{
 "cells": [
  {
   "cell_type": "markdown",
   "id": "e558a0e2",
   "metadata": {},
   "source": [
    "###### Importing Libraries"
   ]
  },
  {
   "cell_type": "code",
   "execution_count": 2,
   "id": "2ae20f1e",
   "metadata": {},
   "outputs": [],
   "source": [
    "import pandas as pd"
   ]
  },
  {
   "cell_type": "code",
   "execution_count": 5,
   "id": "4eaddea9",
   "metadata": {},
   "outputs": [
    {
     "data": {
      "text/html": [
       "<div>\n",
       "<style scoped>\n",
       "    .dataframe tbody tr th:only-of-type {\n",
       "        vertical-align: middle;\n",
       "    }\n",
       "\n",
       "    .dataframe tbody tr th {\n",
       "        vertical-align: top;\n",
       "    }\n",
       "\n",
       "    .dataframe thead th {\n",
       "        text-align: right;\n",
       "    }\n",
       "</style>\n",
       "<table border=\"1\" class=\"dataframe\">\n",
       "  <thead>\n",
       "    <tr style=\"text-align: right;\">\n",
       "      <th></th>\n",
       "      <th>Unnamed: 0</th>\n",
       "      <th>news_title</th>\n",
       "      <th>news_short_description</th>\n",
       "      <th>news_category</th>\n",
       "    </tr>\n",
       "  </thead>\n",
       "  <tbody>\n",
       "    <tr>\n",
       "      <th>0</th>\n",
       "      <td>0.0</td>\n",
       "      <td>Anirudh Ravichander on Dhanush’s Thiruchitramb...</td>\n",
       "      <td>Anirudh Ravichander and Dhanush have joined ha...</td>\n",
       "      <td>entertainment</td>\n",
       "    </tr>\n",
       "    <tr>\n",
       "      <th>1</th>\n",
       "      <td>1.0</td>\n",
       "      <td>Shehnaaz Gill says she would cast Kareena Kapo...</td>\n",
       "      <td>Shehnaaz Gills answers questions ranging from ...</td>\n",
       "      <td>entertainment</td>\n",
       "    </tr>\n",
       "    <tr>\n",
       "      <th>2</th>\n",
       "      <td>2.0</td>\n",
       "      <td>When Sanjay Leela Bhansali replaced Kareena Ka...</td>\n",
       "      <td>Kareena Kapoor spoke in an old interview about...</td>\n",
       "      <td>entertainment</td>\n",
       "    </tr>\n",
       "    <tr>\n",
       "      <th>3</th>\n",
       "      <td>3.0</td>\n",
       "      <td>Janhvi Kapoor, Chitrangada Singh support Ranve...</td>\n",
       "      <td>Janhvi Kapoor and Chitrangada Sen expressed th...</td>\n",
       "      <td>entertainment</td>\n",
       "    </tr>\n",
       "    <tr>\n",
       "      <th>4</th>\n",
       "      <td>4.0</td>\n",
       "      <td>Vicky Kaushal attends Sam Bahadur reading sess...</td>\n",
       "      <td>Sam Bahadur is a biopic on Field Marshal Sam M...</td>\n",
       "      <td>entertainment</td>\n",
       "    </tr>\n",
       "  </tbody>\n",
       "</table>\n",
       "</div>"
      ],
      "text/plain": [
       "   Unnamed: 0                                         news_title  \\\n",
       "0         0.0  Anirudh Ravichander on Dhanush’s Thiruchitramb...   \n",
       "1         1.0  Shehnaaz Gill says she would cast Kareena Kapo...   \n",
       "2         2.0  When Sanjay Leela Bhansali replaced Kareena Ka...   \n",
       "3         3.0  Janhvi Kapoor, Chitrangada Singh support Ranve...   \n",
       "4         4.0  Vicky Kaushal attends Sam Bahadur reading sess...   \n",
       "\n",
       "                              news_short_description  news_category  \n",
       "0  Anirudh Ravichander and Dhanush have joined ha...  entertainment  \n",
       "1  Shehnaaz Gills answers questions ranging from ...  entertainment  \n",
       "2  Kareena Kapoor spoke in an old interview about...  entertainment  \n",
       "3  Janhvi Kapoor and Chitrangada Sen expressed th...  entertainment  \n",
       "4  Sam Bahadur is a biopic on Field Marshal Sam M...  entertainment  "
      ]
     },
     "execution_count": 5,
     "metadata": {},
     "output_type": "execute_result"
    }
   ],
   "source": [
    "df=pd.read_csv('data.csv')\n",
    "df.head()"
   ]
  },
  {
   "cell_type": "code",
   "execution_count": 7,
   "id": "c8f302f0",
   "metadata": {},
   "outputs": [
    {
     "data": {
      "text/plain": [
       "Index(['Unnamed: 0', 'news_title', 'news_short_description', 'news_category'], dtype='object')"
      ]
     },
     "execution_count": 7,
     "metadata": {},
     "output_type": "execute_result"
    }
   ],
   "source": [
    "df.columns"
   ]
  },
  {
   "cell_type": "code",
   "execution_count": null,
   "id": "3f733b52",
   "metadata": {},
   "outputs": [],
   "source": [
    "df.dro"
   ]
  }
 ],
 "metadata": {
  "kernelspec": {
   "display_name": "Python 3",
   "language": "python",
   "name": "python3"
  },
  "language_info": {
   "codemirror_mode": {
    "name": "ipython",
    "version": 3
   },
   "file_extension": ".py",
   "mimetype": "text/x-python",
   "name": "python",
   "nbconvert_exporter": "python",
   "pygments_lexer": "ipython3",
   "version": "3.8.5"
  }
 },
 "nbformat": 4,
 "nbformat_minor": 5
}
